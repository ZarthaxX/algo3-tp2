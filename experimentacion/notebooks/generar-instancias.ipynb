{
 "cells": [
  {
   "cell_type": "markdown",
   "metadata": {},
   "source": [
    "# Generador de instancias\n",
    "En este notebook está el código para generar los sets de instancias que se usan para experimentar.\n",
    "- Estas instancias van a ser guardadas en la carpeta __instancias__.\n",
    "- Cada set estará en su propia carpeta y tendrá un archivo _indice.csv_ que contendrá información sobre las instancias."
   ]
  },
  {
   "cell_type": "code",
   "execution_count": 6,
   "metadata": {},
   "outputs": [],
   "source": [
    "import random, math\n",
    "import pandas as pd\n",
    "import numpy as np\n",
    "import os"
   ]
  },
  {
   "cell_type": "code",
   "execution_count": 7,
   "metadata": {},
   "outputs": [],
   "source": [
    "def save_instance(dataset, instance_name, n, mG, mH, edges, i):\n",
    "    instance_name = f\"{instance_name}-{n}-{mG}-{mH}-{i}\";\n",
    "    directory = f\"..\\\\instances\\\\{dataset}\"\n",
    "    if not os.path.exists(directory):\n",
    "        os.makedirs(directory)\n",
    "    with open(f\"{directory}\\\\{instance_name}.in\", \"w+\") as f:\n",
    "        print(n, mG, mH, file=f)\n",
    "        for edge in edges: \n",
    "            print(f\"{edge[0]} {edge[1]}\\n\", file=f, end=\"\")"
   ]
  },
  {
   "cell_type": "code",
   "execution_count": 8,
   "metadata": {},
   "outputs": [],
   "source": [
    "def save_row(filas_indice, dataset, instance_name, n, mG, mH, i):\n",
    "    filas_indice.append([dataset, instance_name+f\"-{n}-{mG}-{mH}-{i}\", n, mG, mH, i, \"..\\\\instances\\\\\"+ dataset + \"\\\\\"+ instance_name+f\"-{n}-{mG}-{mH}-{i}.in\"])\n",
    "\n",
    "def save_to_csv(filas_indice,dataset):\n",
    "    df = pd.DataFrame(filas_indice, columns=[\"dataset\", \"instancia\", \"n\", \"mG\", \"mH\",\"i\", \"archivo\"])\n",
    "    df.to_csv(\"..\\\\instances\\\\\"+dataset+\"\\\\indice.csv\", index=False, header=True)"
   ]
  },
  {
   "cell_type": "code",
   "execution_count": 9,
   "metadata": {},
   "outputs": [],
   "source": [
    "random.seed(42)"
   ]
  },
  {
   "cell_type": "markdown",
   "metadata": {},
   "source": [
    "## Optimo"
   ]
  },
  {
   "cell_type": "code",
   "execution_count": 10,
   "metadata": {},
   "outputs": [],
   "source": [
    "from os import listdir\n",
    "from os.path import isfile, join\n",
    "\n",
    "dataset = \"optimo\"\n",
    "instance_name = \"optimo\"\n",
    "filas_indice = []\n",
    "\n",
    "path = \"../../instancias\"; \n",
    "onlyfiles = [join(path,f) for f in listdir(path) if isfile(join(path, f)) and f.find(\".in\") != -1]\n",
    "\n",
    "for file in onlyfiles:\n",
    "    with open(file) as f:\n",
    "        n, mG, mH = [int(x) for x in next(f).split()] # read first line\n",
    "        edges = []\n",
    "        for line in f: # read rest of lines\n",
    "            edges.append([int(x) for x in line.split()])\n",
    "            \n",
    "        save_instance(dataset,instance_name, n, mG, mH, edges, 1)\n",
    "        save_row(filas_indice, dataset, instance_name, n, mG, mH, 1)\n",
    "\n",
    "save_to_csv(filas_indice,dataset)"
   ]
  },
  {
   "cell_type": "code",
   "execution_count": null,
   "metadata": {},
   "outputs": [],
   "source": []
  }
 ],
 "metadata": {
  "kernelspec": {
   "display_name": "Python 3.7.3 32-bit",
   "language": "python",
   "name": "python37332bit5b124b6f061645788d8daeecb8ac3422"
  },
  "language_info": {
   "codemirror_mode": {
    "name": "ipython",
    "version": 3
   },
   "file_extension": ".py",
   "mimetype": "text/x-python",
   "name": "python",
   "nbconvert_exporter": "python",
   "pygments_lexer": "ipython3",
   "version": "3.7.3"
  }
 },
 "nbformat": 4,
 "nbformat_minor": 4
}
