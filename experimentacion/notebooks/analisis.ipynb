{
 "cells": [
  {
   "cell_type": "code",
   "execution_count": 17,
   "metadata": {
    "tags": []
   },
   "outputs": [],
   "source": [
    "import numpy as np\n",
    "import pandas as pd\n",
    "import seaborn as sns\n",
    "import matplotlib.pyplot as plt"
   ]
  },
  {
   "cell_type": "code",
   "execution_count": 18,
   "metadata": {},
   "outputs": [],
   "source": [
    "def correlacion_pearson(data_frame, columna1, columna2):\n",
    "    return np.corrcoef(data_frame[columna1], data_frame[columna2])[0,1];"
   ]
  },
  {
   "cell_type": "markdown",
   "metadata": {},
   "source": [
    "# Experimentos del TP de CMI"
   ]
  },
  {
   "cell_type": "markdown",
   "metadata": {},
   "source": [
    "# Datasets\n",
    "Para los experimentos se crean las siguientes familias de instancias para evaluar los distintos métodos.\n",
    "1. **Optimo**"
   ]
  },
  {
   "cell_type": "markdown",
   "metadata": {},
   "source": [
    "# Métodos\n",
    "Los métodos evaluados en este notebook son los siguientes:\n",
    "- **GS**: Fuerza Bruta.\n",
    "- **GE**: Backtracking con podas por optimalidad y factibilidad.\n",
    "- **GB**: \n",
    "- **TS**: Tabu search."
   ]
  },
  {
   "cell_type": "markdown",
   "metadata": {},
   "source": [
    "# Experimentos\n",
    "Leemos el dataframe con todos los resultados."
   ]
  },
  {
   "cell_type": "code",
   "execution_count": 19,
   "metadata": {},
   "outputs": [],
   "source": [
    "agg_funcs = {   \"tiempo\":\"mean\",\n",
    "                \"impacto\":\"mean\",\n",
    "                \"cant_colores\": \"mean\",\n",
    "                \"longitud_tabu\": \"mean\",\n",
    "                \"tipo_memoria\": \"first\",\n",
    "                \"porcentaje_vecindad\": \"mean\"}\n",
    "df_resultados = df_resultados.groupby(['dataset','n','mG','mH','metodo']).aggregate(agg_funcs).reset_index()"
   ]
  },
  {
   "cell_type": "code",
   "execution_count": 20,
   "metadata": {},
   "outputs": [],
   "source": [
    "#mismo tamaño, aristas H, aristas G\n",
    "# obtener maximo impacto.\n",
    "\n",
    "#df_ejemploMax = df_resultados[]"
   ]
  },
  {
   "cell_type": "markdown",
   "metadata": {},
   "source": [
    "## Experimento 1: Heuristicas con optimo conocido"
   ]
  },
  {
   "cell_type": "code",
   "execution_count": null,
   "metadata": {},
   "outputs": [],
   "source": []
  },
  {
   "cell_type": "code",
   "execution_count": 21,
   "metadata": {},
   "outputs": [
    {
     "data": {
      "text/html": [
       "<div>\n",
       "<style scoped>\n",
       "    .dataframe tbody tr th:only-of-type {\n",
       "        vertical-align: middle;\n",
       "    }\n",
       "\n",
       "    .dataframe tbody tr th {\n",
       "        vertical-align: top;\n",
       "    }\n",
       "\n",
       "    .dataframe thead th {\n",
       "        text-align: right;\n",
       "    }\n",
       "</style>\n",
       "<table border=\"1\" class=\"dataframe\">\n",
       "  <thead>\n",
       "    <tr style=\"text-align: right;\">\n",
       "      <th></th>\n",
       "      <th>dataset</th>\n",
       "      <th>n</th>\n",
       "      <th>mG</th>\n",
       "      <th>mH</th>\n",
       "      <th>metodo</th>\n",
       "      <th>tiempo</th>\n",
       "      <th>impacto</th>\n",
       "      <th>cant_colores</th>\n",
       "      <th>longitud_tabu</th>\n",
       "      <th>tipo_memoria</th>\n",
       "      <th>porcentaje_vecindad</th>\n",
       "    </tr>\n",
       "  </thead>\n",
       "  <tbody>\n",
       "    <tr>\n",
       "      <th>0</th>\n",
       "      <td>optimo</td>\n",
       "      <td>6</td>\n",
       "      <td>7</td>\n",
       "      <td>2</td>\n",
       "      <td>GB</td>\n",
       "      <td>0.0</td>\n",
       "      <td>1.0</td>\n",
       "      <td>3.0</td>\n",
       "      <td>0</td>\n",
       "      <td>none</td>\n",
       "      <td>0</td>\n",
       "    </tr>\n",
       "    <tr>\n",
       "      <th>1</th>\n",
       "      <td>optimo</td>\n",
       "      <td>6</td>\n",
       "      <td>7</td>\n",
       "      <td>2</td>\n",
       "      <td>GE</td>\n",
       "      <td>0.0</td>\n",
       "      <td>1.0</td>\n",
       "      <td>5.0</td>\n",
       "      <td>0</td>\n",
       "      <td>none</td>\n",
       "      <td>0</td>\n",
       "    </tr>\n",
       "    <tr>\n",
       "      <th>2</th>\n",
       "      <td>optimo</td>\n",
       "      <td>6</td>\n",
       "      <td>7</td>\n",
       "      <td>2</td>\n",
       "      <td>GS</td>\n",
       "      <td>0.0</td>\n",
       "      <td>1.0</td>\n",
       "      <td>3.0</td>\n",
       "      <td>0</td>\n",
       "      <td>none</td>\n",
       "      <td>0</td>\n",
       "    </tr>\n",
       "    <tr>\n",
       "      <th>3</th>\n",
       "      <td>optimo</td>\n",
       "      <td>6</td>\n",
       "      <td>7</td>\n",
       "      <td>2</td>\n",
       "      <td>OPTIMO</td>\n",
       "      <td>0.0</td>\n",
       "      <td>1.0</td>\n",
       "      <td>4.0</td>\n",
       "      <td>0</td>\n",
       "      <td>none</td>\n",
       "      <td>0</td>\n",
       "    </tr>\n",
       "    <tr>\n",
       "      <th>4</th>\n",
       "      <td>optimo</td>\n",
       "      <td>8</td>\n",
       "      <td>8</td>\n",
       "      <td>8</td>\n",
       "      <td>GB</td>\n",
       "      <td>0.0</td>\n",
       "      <td>6.0</td>\n",
       "      <td>2.0</td>\n",
       "      <td>0</td>\n",
       "      <td>none</td>\n",
       "      <td>0</td>\n",
       "    </tr>\n",
       "    <tr>\n",
       "      <th>...</th>\n",
       "      <td>...</td>\n",
       "      <td>...</td>\n",
       "      <td>...</td>\n",
       "      <td>...</td>\n",
       "      <td>...</td>\n",
       "      <td>...</td>\n",
       "      <td>...</td>\n",
       "      <td>...</td>\n",
       "      <td>...</td>\n",
       "      <td>...</td>\n",
       "      <td>...</td>\n",
       "    </tr>\n",
       "    <tr>\n",
       "      <th>285</th>\n",
       "      <td>random-ralo-ralo</td>\n",
       "      <td>75</td>\n",
       "      <td>150</td>\n",
       "      <td>150</td>\n",
       "      <td>GE</td>\n",
       "      <td>0.0</td>\n",
       "      <td>71.7</td>\n",
       "      <td>14.7</td>\n",
       "      <td>0</td>\n",
       "      <td>none</td>\n",
       "      <td>0</td>\n",
       "    </tr>\n",
       "    <tr>\n",
       "      <th>286</th>\n",
       "      <td>random-ralo-ralo</td>\n",
       "      <td>75</td>\n",
       "      <td>150</td>\n",
       "      <td>150</td>\n",
       "      <td>GS</td>\n",
       "      <td>100.0</td>\n",
       "      <td>59.6</td>\n",
       "      <td>4.2</td>\n",
       "      <td>0</td>\n",
       "      <td>none</td>\n",
       "      <td>0</td>\n",
       "    </tr>\n",
       "    <tr>\n",
       "      <th>288</th>\n",
       "      <td>random-ralo-ralo</td>\n",
       "      <td>80</td>\n",
       "      <td>160</td>\n",
       "      <td>160</td>\n",
       "      <td>GB</td>\n",
       "      <td>274751.4</td>\n",
       "      <td>75.8</td>\n",
       "      <td>5.2</td>\n",
       "      <td>0</td>\n",
       "      <td>none</td>\n",
       "      <td>0</td>\n",
       "    </tr>\n",
       "    <tr>\n",
       "      <th>289</th>\n",
       "      <td>random-ralo-ralo</td>\n",
       "      <td>80</td>\n",
       "      <td>160</td>\n",
       "      <td>160</td>\n",
       "      <td>GE</td>\n",
       "      <td>0.0</td>\n",
       "      <td>74.4</td>\n",
       "      <td>16.7</td>\n",
       "      <td>0</td>\n",
       "      <td>none</td>\n",
       "      <td>0</td>\n",
       "    </tr>\n",
       "    <tr>\n",
       "      <th>290</th>\n",
       "      <td>random-ralo-ralo</td>\n",
       "      <td>80</td>\n",
       "      <td>160</td>\n",
       "      <td>160</td>\n",
       "      <td>GS</td>\n",
       "      <td>100.0</td>\n",
       "      <td>58.9</td>\n",
       "      <td>4.1</td>\n",
       "      <td>0</td>\n",
       "      <td>none</td>\n",
       "      <td>0</td>\n",
       "    </tr>\n",
       "  </tbody>\n",
       "</table>\n",
       "<p>232 rows × 11 columns</p>\n",
       "</div>"
      ],
      "text/plain": [
       "              dataset   n   mG   mH  metodo    tiempo  impacto  cant_colores  \\\n",
       "0              optimo   6    7    2      GB       0.0      1.0           3.0   \n",
       "1              optimo   6    7    2      GE       0.0      1.0           5.0   \n",
       "2              optimo   6    7    2      GS       0.0      1.0           3.0   \n",
       "3              optimo   6    7    2  OPTIMO       0.0      1.0           4.0   \n",
       "4              optimo   8    8    8      GB       0.0      6.0           2.0   \n",
       "..                ...  ..  ...  ...     ...       ...      ...           ...   \n",
       "285  random-ralo-ralo  75  150  150      GE       0.0     71.7          14.7   \n",
       "286  random-ralo-ralo  75  150  150      GS     100.0     59.6           4.2   \n",
       "288  random-ralo-ralo  80  160  160      GB  274751.4     75.8           5.2   \n",
       "289  random-ralo-ralo  80  160  160      GE       0.0     74.4          16.7   \n",
       "290  random-ralo-ralo  80  160  160      GS     100.0     58.9           4.1   \n",
       "\n",
       "     longitud_tabu tipo_memoria  porcentaje_vecindad  \n",
       "0                0         none                    0  \n",
       "1                0         none                    0  \n",
       "2                0         none                    0  \n",
       "3                0         none                    0  \n",
       "4                0         none                    0  \n",
       "..             ...          ...                  ...  \n",
       "285              0         none                    0  \n",
       "286              0         none                    0  \n",
       "288              0         none                    0  \n",
       "289              0         none                    0  \n",
       "290              0         none                    0  \n",
       "\n",
       "[232 rows x 11 columns]"
      ]
     },
     "execution_count": 21,
     "metadata": {},
     "output_type": "execute_result"
    }
   ],
   "source": [
    "df_random_denso_denso = df_resultados[(df_resultados[\"metodo\"]==\"GS\") |\n",
    "                                      (df_resultados[\"metodo\"]==\"GE\") |\n",
    "                                      (df_resultados[\"metodo\"]==\"GB\") |\n",
    "                                      (df_resultados[\"metodo\"]==\"OPTIMO\")\n",
    "                                     ].copy();\n",
    "\n",
    "df_random_denso_denso"
   ]
  },
  {
   "cell_type": "code",
   "execution_count": 22,
   "metadata": {},
   "outputs": [],
   "source": [
    "df_random_denso_denso = df_resultados.loc[df_resultados['dataset'] == 'random-denso-denso']\n",
    "df_random_denso_denso_ge = df_random_denso_denso.loc[df_random_denso_denso['metodo'] == 'GE']\n",
    "df_random_denso_denso_gb = df_random_denso_denso.loc[df_random_denso_denso['metodo'] == 'GB']\n",
    "df_random_denso_denso_gs = df_random_denso_denso.loc[df_random_denso_denso['metodo'] == 'GS']\n",
    "\n",
    "\n",
    "df_random_ralo_ralo = df_resultados.loc[df_resultados['dataset'] == 'random-ralo-ralo']\n",
    "df_random_ralo_ralo_ge = df_random_ralo_ralo.loc[df_random_ralo_ralo['metodo'] == 'GE']\n",
    "df_random_ralo_ralo_gb = df_random_ralo_ralo.loc[df_random_ralo_ralo['metodo'] == 'GB']\n",
    "df_random_ralo_ralo_gs = df_random_ralo_ralo.loc[df_random_ralo_ralo['metodo'] == 'GS']\n",
    "\n",
    "df_random_ralo_denso = df_resultados.loc[df_resultados['dataset'] == 'random-ralo-denso']\n",
    "df_random_ralo_denso_ge = df_random_ralo_denso.loc[df_random_ralo_denso['metodo'] == 'GE']\n",
    "df_random_ralo_denso_gb = df_random_ralo_denso.loc[df_random_ralo_denso['metodo'] == 'GB']\n",
    "df_random_ralo_denso_gs = df_random_ralo_denso.loc[df_random_ralo_denso['metodo'] == 'GS']\n",
    "\n",
    "df_random_denso_ralo = df_resultados.loc[df_resultados['dataset'] == 'random-denso-ralo']\n",
    "df_random_denso_ralo_ge = df_random_denso_ralo.loc[df_random_denso_ralo['metodo'] == 'GE']\n",
    "df_random_denso_ralo_gb = df_random_denso_ralo.loc[df_random_denso_ralo['metodo'] == 'GB']\n",
    "df_random_denso_ralo_gs = df_random_denso_ralo.loc[df_random_denso_ralo['metodo'] == 'GS']\n"
   ]
  },
  {
   "cell_type": "code",
   "execution_count": 23,
   "metadata": {},
   "outputs": [
    {
     "data": {
      "text/plain": [
       "<matplotlib.axes._subplots.AxesSubplot at 0xd982930>"
      ]
     },
     "execution_count": 23,
     "metadata": {},
     "output_type": "execute_result"
    },
    {
     "data": {
      "image/png": "[encoded data removed]",
      "text/plain": [
       "<Figure size 432x288 with 1 Axes>"
      ]
     },
     "metadata": {
      "needs_background": "light"
     },
     "output_type": "display_data"
    }
   ],
   "source": [
    "#Necesito conseguir listas para x, y para y.\n",
    "\n",
    "sns.boxplot(x='n', y='impacto', data=df_random_denso_denso_ge, color = 'black') #negro: expansivo \n",
    "sns.boxplot(x='n', y='impacto', data=df_random_denso_denso_gb, color = 'blue') #azul : bruteforcer\n",
    "sns.boxplot(x='n', y='impacto', data=df_random_denso_denso_gs, color = 'red') #rojo : secuencial\n"
   ]
  },
  {
   "cell_type": "code",
   "execution_count": 24,
   "metadata": {},
   "outputs": [
    {
     "data": {
      "text/plain": [
       "<matplotlib.axes._subplots.AxesSubplot at 0xdf14770>"
      ]
     },
     "execution_count": 24,
     "metadata": {},
     "output_type": "execute_result"
    },
    {
     "data": {
      "image/png": "[encoded data removed]",
      "text/plain": [
       "<Figure size 432x288 with 1 Axes>"
      ]
     },
     "metadata": {
      "needs_background": "light"
     },
     "output_type": "display_data"
    }
   ],
   "source": [
    "sns.boxplot(x='n', y='impacto', data=df_random_ralo_ralo_ge, color = 'black') #negro: expansivo \n",
    "sns.boxplot(x='n', y='impacto', data=df_random_ralo_ralo_gb, color = 'blue') #azul : bruteforcer\n",
    "sns.boxplot(x='n', y='impacto', data=df_random_ralo_ralo_gs, color = 'red') #rojo : secuencial"
   ]
  },
  {
   "cell_type": "code",
   "execution_count": 25,
   "metadata": {},
   "outputs": [
    {
     "data": {
      "text/plain": [
       "<matplotlib.axes._subplots.AxesSubplot at 0xe0fde90>"
      ]
     },
     "execution_count": 25,
     "metadata": {},
     "output_type": "execute_result"
    },
    {
     "data": {
      "image/png": "[encoded data removed]",
      "text/plain": [
       "<Figure size 432x288 with 1 Axes>"
      ]
     },
     "metadata": {
      "needs_background": "light"
     },
     "output_type": "display_data"
    }
   ],
   "source": [
    "sns.boxplot(x='n', y='impacto', data=df_random_ralo_denso_ge, color = 'black') #negro: expansivo \n",
    "sns.boxplot(x='n', y='impacto', data=df_random_ralo_denso_gb, color = 'blue') #azul : bruteforcer\n",
    "sns.boxplot(x='n', y='impacto', data=df_random_ralo_denso_gs, color = 'red') #rojo : secuencial"
   ]
  },
  {
   "cell_type": "code",
   "execution_count": 26,
   "metadata": {},
   "outputs": [
    {
     "data": {
      "text/plain": [
       "<matplotlib.axes._subplots.AxesSubplot at 0xf342c10>"
      ]
     },
     "execution_count": 26,
     "metadata": {},
     "output_type": "execute_result"
    },
    {
     "data": {
      "image/png": "[encoded data removed]",
      "text/plain": [
       "<Figure size 432x288 with 1 Axes>"
      ]
     },
     "metadata": {
      "needs_background": "light"
     },
     "output_type": "display_data"
    }
   ],
   "source": [
    "sns.boxplot(x='n', y='impacto', data=df_random_denso_ralo_ge, color = 'black') #negro: expansivo \n",
    "sns.boxplot(x='n', y='impacto', data=df_random_denso_ralo_gb, color = 'blue') #azul : bruteforcer\n",
    "sns.boxplot(x='n', y='impacto', data=df_random_denso_ralo_gs, color = 'red') #rojo : secuencial"
   ]
  },
  {
   "cell_type": "code",
   "execution_count": 27,
   "metadata": {},
   "outputs": [],
   "source": [
    "#Necesito conseguir listas para x, y para y.\n",
    "\n",
    "#sns.boxplot(x='n', y='tiempo', data=df_random_denso_denso_ge, color = 'black') #negro: expansivo \n",
    "#sns.boxplot(x='n', y='tiempo', data=df_random_denso_denso_gb, color = 'blue') #azul: bruteforcer\n",
    "#sns.boxplot(x='n', y='tiempo', data=df_random_denso_denso_gs, color = 'red') #rojo: secuencial"
   ]
  },
  {
   "cell_type": "code",
   "execution_count": 53,
   "metadata": {},
   "outputs": [
    {
     "name": "stderr",
     "output_type": "stream",
     "text": [
      "c:\\users\\tomas\\appdata\\local\\programs\\python\\python37-32\\lib\\site-packages\\ipykernel_launcher.py:1: SettingWithCopyWarning: \n",
      "A value is trying to be set on a copy of a slice from a DataFrame.\n",
      "Try using .loc[row_indexer,col_indexer] = value instead\n",
      "\n",
      "See the caveats in the documentation: https://pandas.pydata.org/pandas-docs/stable/user_guide/indexing.html#returning-a-view-versus-a-copy\n",
      "  \"\"\"Entry point for launching an IPython kernel.\n"
     ]
    },
    {
     "data": {
      "image/png": "[encoded data removed]",
      "text/plain": [
       "<Figure size 432x288 with 1 Axes>"
      ]
     },
     "metadata": {
      "needs_background": "light"
     },
     "output_type": "display_data"
    },
    {
     "data": {
      "image/png": "[encoded data removed]",
      "text/plain": [
       "<Figure size 360x360 with 1 Axes>"
      ]
     },
     "metadata": {
      "needs_background": "light"
     },
     "output_type": "display_data"
    }
   ],
   "source": [
    "df_random_denso_denso_gs[\"tiempo_esperado\"] = 0.25 * df_random_denso_denso_gs[\"n\"] ** 2; # Exponencial\n",
    "fig = sns.scatterplot(data=df_random_denso_denso_gs, x='n', y='tiempo');\n",
    "fig = sns.lineplot(data=df_random_denso_denso_gs, x='n', y='tiempo_esperado', color=\"red\");\n",
    "\n",
    "sns.lmplot(x=\"n\", y=\"tiempo\", data=df_random_denso_denso_gs, x_estimator=np.mean, order=2);\n",
    "plt.savefig(\"..\\\\graficos\\\\tiempo-gs.svg\");\n"
   ]
  },
  {
   "cell_type": "code",
   "execution_count": 40,
   "metadata": {
    "scrolled": true
   },
   "outputs": [
    {
     "data": {
      "image/png": "[encoded data removed]",
      "text/plain": [
       "<Figure size 360x360 with 1 Axes>"
      ]
     },
     "metadata": {
      "needs_background": "light"
     },
     "output_type": "display_data"
    }
   ],
   "source": [
    "sns.lmplot(x=\"n\", y=\"tiempo\", data=df_random_denso_denso_ge, x_estimator=np.mean, order=2);\n",
    "plt.savefig(\"..\\\\graficos\\\\tiempo-ge.svg\");"
   ]
  },
  {
   "cell_type": "code",
   "execution_count": 38,
   "metadata": {},
   "outputs": [
    {
     "data": {
      "image/png": "[encoded data removed]",
      "text/plain": [
       "<Figure size 360x360 with 1 Axes>"
      ]
     },
     "metadata": {
      "needs_background": "light"
     },
     "output_type": "display_data"
    }
   ],
   "source": [
    "sns.lmplot(x=\"n\", y=\"tiempo\", data=df_random_denso_denso_gb,\n",
    "           order=5, scatter_kws={\"s\": 80});"
   ]
  },
  {
   "cell_type": "code",
   "execution_count": 31,
   "metadata": {},
   "outputs": [],
   "source": [
    "impactoOptimosJuli = [ 1, 3, 4, 5, 7, 9, 12, 13, 15, 16, 18, 19, 21, 24, 26, 28, 30, 32, 33, 34, 35, 36, 37, 38, 38, 39, 39, 39, 39, 39, 39, 39, 40, 40, 40, 40, 40, 41, 41, 41, 41, 41, 41, 41, 41, 41, 41, 41, 41, 41, 41, 41, 41, 41, 41, 41, 41, 41, 41, 41, 41, 41, 41, 41, 41, 41, 41, 41, 41, 41, 41, 41, 41, 41, 41, 41, 41, 41, 41, 41, 41, 41, 41, 41, 41, 41, 41, 41, 41, 41, 41, 41, 41, 41, 41, 41, 41, 41, 41, 41, 41, 41, 41, 41, 41, 41, 41, 41, 41, 41,\n",
    "41, 41, 41, 41, 41, 41, 41, 41, 41, 41, 41, 41, 41, 41, 41, 41, 41, 41, 41, 41, 41, 41, 41, 41, 41, 41, 41, 41, 41, 41, 41, 41, 41, 41, 41, 41, 41, 41, 41, 41, 41, 41, 41, 41, 41, 41, 41, 41, 41, 41, 41, 41, 41, 41, 41, 41, 41, 41, 41, 41, 41, 41, 41, 41, 41, 41, 41, 41, 41, 41, 41, 41, 41, 41, 41, 41, 41, 41, 41, 41, 41, 41, 41, 41, 41, 41, 41, 41, 41, 41, 41, 41, 41, 41, 41, 41, 41, 41, 41, 41, 41, 41, 41, 41, 41, 41, 41, 41, 41,\n",
    "41, 41, 41, 41, 41, 41, 41, 41, 41, 41, 41, 41, 42, 43, 43, 43, 43, 43, 43, 43, 43, 43, 43, 43, 43, 43, 43, 43, 43, 43, 43, 43, 43, 43, 43, 43, 44, 44, 44, 44, 44, 44, 44, 44, 44, 44, 44, 44, 44, 44, 44, 44, 44, 44, 44, 44, 44, 44, 44, 44, 44, 44, 44, 44, 44, 44, 44, 44, 44, 44, 44, 44, 44, 44, 44, 44, 44, 44, 44, 44, 44, 44, 44, 44, 44, 44, 44, 44, 44, 44, 44, 44, 44, 44, 44, 44, 44, 44, 44, 44, 44, 44, 44, 44, 44, 44, 44, 44, 44,\n",
    "44, 44, 44, 44, 44, 44, 44, 44, 44, 44, 44, 44, 44, 44, 44, 44, 44, 44, 44, 44, 44, 44, 44, 44, 44, 44, 44, 44, 44, 44, 44, 44, 44, 44, 44, 44, 44, 44, 44, 44, 44, 44, 44, 44, 44, 44, 44, 44, 44, 44, 44, 44, 44, 44, 44, 44, 44, 44, 44, 44, 44, 44, 44, 44, 44, 44, 44, 44, 44, 44, 44, 44, 44, 44, 44, 44, 44, 44, 44, 44, 44, 44, 44, 44, 44, 44, 44, 44, 44, 44, 44, 44, 44, 44, 44, 44, 44, 44, 44, 44, 44, 44, 44, 44, 44, 44, 44, 44, 44,\n",
    "44, 44, 44, 44, 44, 44, 44, 44, 44, 44, 44, 44, 44, 44, 44, 44, 44, 44, 44, 44, 44, 44, 44, 44, 44, 44, 44, 44, 44, 44, 44, 44, 44, 44, 44, 44, 44, 44, 44, 44, 44, 44, 44, 44, 44, 44, 44, 44, 44, 44, 44, 44, 44, 44, 44, 44, 44, 44, 44, 44, 44, 44, 44, 44, 44, 44, 44, 44, 44, 44, 44, 44, 44, 44, 44, 44, 44, 44, 44, 44, 44, 44, 44, 44, 44, 44, 44, 44, 44, 44, 44, 44, 44, 44, 44, 44, 44, 44, 44, 44, 44, 44, 44, 44, 44, 44, 44, 44, 44,\n",
    "44, 44, 44, 44, 44, 44, 44, 44, 44, 44, 44, 44, 44, 44, 44, 44, 44, 44, 44, 44, 44, 44, 44, 44, 44, 44, 44, 44, 44, 44, 44, 44, 44, 44, 44, 44, 44, 44, 44, 44, 44, 44, 44, 44, 44, 44, 44, 44, 44, 44, 44, 44, 44, 44, 44, 44, 44, 44, 44, 44, 44, 44, 44, 44, 44, 44, 44, 44, 44, 44, 44, 44, 44, 44, 44, 44, 44, 44, 44, 44, 44, 44, 44, 44, 44, 44, 44, 44, 44, 44, 44, 44, 44, 44, 44, 44, 44, 44, 44, 44, 44, 44, 44, 44, 44, 44, 44, 44, 44,\n",
    "44, 44, 44, 44, 44, 44, 44, 44, 44, 44, 44, 44, 44, 44, 44, 44, 44, 44, 44, 44, 44, 44, 44, 44, 44, 44, 44, 44, 44, 44, 44, 44, 44, 44, 44, 44, 44, 44, 44, 44, 44, 44, 44, 44, 44, 44, 44, 44, 44, 44, 44, 44, 44, 44, 44, 44, 44, 44, 44, 44, 44, 44, 44, 44, 44, 44, 44, 44, 44, 44, 44, 44, 44, 44, 44, 44, 44, 44, 44, 44, 44, 44, 44, 44, 44, 44, 44, 44, 44, 44, 44, 44, 44, 44, 44, 44, 44, 44, 44, 44, 44, 44, 44, 44, 44, 44, 44, 44, 44,\n",
    "44, 44, 44, 44, 44, 44, 44, 44, 44, 44, 44, 44, 44, 44, 44, 44, 44, 44, 44, 44, 44, 44, 44, 44, 44, 44, 44, 44, 44, 44, 44, 44, 44, 44, 44, 44, 44, 44, 44, 44, 44, 44, 44, 44, 44, 44, 44, 44, 44, 44, 44, 44, 44, 44, 44, 44, 44, 44, 44, 44, 44, 44, 44, 44, 44, 44, 44, 44, 44, 44, 44, 44, 44, 44, 44, 44, 44, 44, 44, 44, 44, 44, 44, 44, 44, 44, 44, 44, 44, 44, 44, 44, 44, 44, 44, 44, 44, 44, 44, 44, 44, 44, 44, 44, 44, 44, 44, 44, 44,\n",
    "44, 44, 44, 44, 44, 44, 44, 44, 44, 44, 44, 44, 44, 44, 44, 44, 44, 44, 44, 44, 44, 44, 44, 44, 44, 44, 44, 44, 44, 44, 44, 44, 44, 44, 44, 44, 44, 44, 44, 44, 44, 44, 44, 44, 44, 44, 44, 44, 44, 44, 44, 44, 44, 44, 44, 44, 44, 44, 44, 44, 44, 44, 44, 44, 44, 44, 44, 44, 44, 44, 44, 44, 44, 44, 44, 44, 44, 44, 44, 44, 44, 44, 44, 44, 44, 44, 44, 44, 44, 44, 44, 44, 44, 44, 44, 44, 44, 44, 44, 44, 44, 44, 44, 44, 44, 44, 44, 44, 44,\n",
    "44, 44, 44, 44, 44, 44, 44, 44, 44, 44, 44, 44, 44, 44, 44, 44, 44, 44]\n",
    "\n",
    "#5 de vecindad\n",
    "impactoSoluciones = [ 1, 2, 3, 4, 5, 7, 8, 9, 10, 11, 12, 11, 12, 12, 13, 14, 15, 15, 17, 16, 17, 17, 20, 20, 21, 20, 21, 21, 23, 24, 25, 26, 26, 27, 27, 29, 28, 30, 29, 31, 31, 31, 30, 31, 31, 31, 32, 32, 31, 31, 31, 31, 31, 32, 31, 31,\n",
    "31, 31, 32, 32, 32, 32, 31, 32, 33, 32, 32, 31, 31, 31, 31, 31, 31, 32, 31, 31, 30, 30, 30, 33, 32, 33, 33, 33, 33, 33, 32, 32, 31, 31, 32, 32, 31, 32, 32, 32, 32, 32, 33, 33, 33, 33, 32, 33, 33, 34, 34, 35, 35, 35, 35, 34, 34, 34, 34, 34, 35, 35, 34, 35, 36, 35, 36, 35, 35, 34, 34, 33, 34, 35, 35, 34, 35, 35, 35, 35, 37, 36, 36, 35, 36, 35, 35, 34, 35, 34, 34, 33, 33, 32, 33, 33, 33, 34, 35, 36, 35, 35, 35, 35, 34, 35, 34, 34, 33,\n",
    "36, 35, 36, 35, 36, 37, 37, 37, 36, 36, 35, 35, 35, 35, 35, 36, 35, 35, 34, 34, 33, 34, 33, 33, 33, 33, 32, 32, 30, 30, 30, 31, 31, 31, 31, 31, 31, 32, 31, 32, 33, 33, 32, 34, 35, 36, 35, 35, 35, 35, 35, 35, 34, 34, 33, 33, 35, 35, 34, 34, 33, 34, 33, 33, 32, 33, 33, 33, 35, 36, 35, 35, 36, 36, 36, 35, 35, 34, 35, 35, 34, 35, 36, 37, 36, 36, 36, 37, 37, 37, 38, 38, 38, 38, 39, 39, 39, 38, 39, 39, 39, 40, 40, 40, 40, 39, 39, 39, 39,\n",
    "40, 40, 40, 40, 40, 40, 39, 39, 39, 40, 39, 39, 39, 40, 40, 40, 40, 39, 39, 38, 39, 39, 41, 40, 40, 40, 41, 41, 41, 41, 41, 40, 40, 38, 38, 39, 39, 40, 41, 41, 41, 41, 41, 40, 41, 41, 40, 40, 40, 40, 39, 39, 38, 39, 37, 37, 37, 38, 37, 39, 38, 38, 38, 38, 37, 37, 36, 36, 35, 36, 37, 37, 36, 36, 34, 34, 33, 34, 34, 36, 35, 36, 36, 37, 36, 36, 37, 36, 37, 37, 37, 38, 39, 38, 38, 37, 38, 36, 36, 35, 36, 37, 38, 37, 37, 36, 36, 35, 36,\n",
    "37, 37, 38, 37, 37, 39, 39, 38, 41, 42, 42, 41, 42, 41, 41, 41, 41, 41, 41, 40, 40, 38, 38, 36, 39, 38, 38, 36, 37, 35, 36, 35, 35, 35, 36, 36, 36, 36, 36, 35, 36, 36, 36, 38, 38, 39, 39, 38, 38, 36, 36, 36, 37, 36, 37, 36, 36, 37, 37, 37, 37, 38, 39, 38, 38, 37, 38, 38, 38, 37, 37, 37, 37, 38, 37, 37, 38, 39, 38, 38, 37, 39, 38, 38, 37, 37, 37, 38, 38, 38, 37, 38, 37, 38, 38, 38, 38, 38, 38, 38, 38, 39, 40, 40, 40, 40, 40, 40, 38,\n",
    "39, 39, 40, 39, 39, 38, 38, 39, 39, 39, 40, 39, 39, 38, 38, 37, 38, 38, 39, 39, 39, 38, 38, 37, 39, 38, 39, 38, 38, 38, 38, 38, 38, 38, 39, 39, 39, 38, 39, 38, 39, 39, 40, 40, 39, 40, 39, 40, 40, 40, 39, 40, 39, 39, 38, 39, 38, 38, 38, 38, 38, 39, 40, 39, 39, 38, 39, 39, 39, 39, 40, 41, 41, 40, 40, 39, 39, 38, 39, 40, 40, 41, 41, 41, 40, 41, 41, 42, 41, 41, 41, 42, 41, 41, 41, 41, 41, 41, 41, 41, 40, 40, 39, 39, 38, 39, 40, 40, 40,\n",
    "40, 39, 40, 39, 39, 39, 39, 39, 39, 39, 40, 39, 39, 39, 40, 39, 39, 38, 38, 38, 39, 38, 38, 37, 37, 36, 36, 35, 36, 36, 37, 38, 39, 38, 38, 39, 40, 41, 41, 39, 41, 40, 40, 40, 40, 40, 40, 40, 40, 39, 39, 38, 38, 37, 38, 37, 38, 38, 38, 38, 38, 38, 38, 37, 37, 36, 36, 36, 37, 37, 37, 36, 36, 37, 37, 38, 37, 38, 38, 38, 39, 39, 38, 38, 37, 37, 37, 38, 38, 39, 38, 38, 38, 37, 37, 37, 37, 37, 37, 38, 38, 39, 39, 38, 38, 37, 38, 39, 39,\n",
    "39, 39, 39, 38, 39, 38, 39, 38, 38, 38, 39, 40, 41, 39, 40, 41, 40, 41, 40, 40, 39, 39, 40, 40, 39, 39, 37, 37, 36, 37, 36, 37, 37, 37, 36, 37, 37, 37, 38, 38, 38, 38, 38, 38, 37, 37, 36, 36, 36, 36, 36, 38, 39, 39, 39, 40, 39, 40, 39, 39, 38, 38, 38, 38, 38, 39, 39, 39, 39, 39, 39, 39, 39, 38, 38, 37, 37, 36, 36, 35, 36, 36, 37, 36, 37, 37, 37, 37, 37, 37, 38, 38, 38, 38, 38, 38, 37, 40, 39, 39, 37, 38, 37, 37, 36, 36, 36, 38, 36,\n",
    "36, 34, 36, 36, 36, 37, 38, 39, 38, 38, 38, 39, 39, 38, 38, 36, 37, 39, 40, 41, 42, 42, 40, 40, 41, 41, 40, 40, 39, 39, 37, 39, 37, 37, 37, 38, 37, 39, 38, 39, 38, 38, 38, 38, 38, 37, 37, 36, 36, 35, 35, 35, 36, 36, 36, 34, 34, 33, 34, 34, 36, 37, 37, 37, 37, 37, 37, 36, 37, 37, 38, 38, 38, 37, 39, 39, 39, 38, 39, 39, 39, 39, 39, 38, 39, 38, 39, 38, 38, 37, 37, 37, 38, 37, 37, 36, 38, 37, 38, 37, 38, 37, 38, 37, 37, 38, 39, 39, 40,\n",
    "40, 39, 40, 39, 39, 38, 39, 38, 39, 39, 39, 39, 39, 39, 39, 38, 40, 40, 41, 40, 41, 41, 41, 40, 40, 38, 38, 38, 39, 39, 39, 38, 38, 37, 37, 37, 37, 36, 37, 37, 37, 38, 38, 38, 39, 38, 39, 40, 40, 40, 39, 39, 38, 38, 37, 37, 37, 37, 37, 37, 37, 39, 39, 39, 39, 39, 38, 39, 40, 40, 41, 39] \n",
    "\n",
    "#5 vecindad\n",
    "impactoModificaciones = [ 1, 2, 3, 4, 5, 7, 8, 9, 10, 11, 12, 13, 14, 15, 16, 17, 17, 17, 19, 20, 21, 21, 22, 23, 24, 25, 25, 26, 28, 28, 29, 29, 29, 29, 30, 31, 31, 32, 32, 32, 34, 34, 34, 34, 34, 34, 35, 35, 35, 35, 36, 36, 36, 36, 36, 36,\n",
    "36, 36, 36, 36, 36, 36, 37, 37, 37, 37, 37, 37, 37, 37, 37, 37, 38, 39, 39, 39, 39, 39, 39, 39, 39, 39, 39, 39, 39, 39, 39, 39, 39, 39, 39, 40, 40, 40, 40, 40, 40, 40, 40, 40, 40, 40, 40, 40, 40, 40, 40, 40, 40, 40, 40, 40, 40, 40, 40, 40, 40, 40, 40, 40, 40, 40, 40, 40, 40, 40, 40, 40, 40, 42, 42, 42, 42, 43, 43, 43, 43, 43, 43, 43, 43, 43, 43, 43, 43, 43, 43, 43, 43, 43, 43, 43, 43, 43, 43, 43, 43, 43, 43, 43, 43, 43, 43, 43, 43,\n",
    "43, 43, 43, 43, 43, 43, 43, 43, 43, 43, 43, 43, 43, 43, 43, 43, 43, 43, 43, 43, 43, 43, 43, 43, 43, 43, 43, 43, 43, 43, 43, 43, 43, 43, 43, 43, 43, 43, 43, 43, 42, 42, 42, 42, 42, 43, 43, 43, 43, 43, 43, 43, 43, 43, 43, 43, 43, 43, 43, 43, 43, 43, 43, 43, 43, 43, 43, 43, 43, 43, 43, 43, 43, 43, 43, 43, 43, 43, 43, 43, 43, 43, 43, 43, 43, 43, 43, 43, 43, 43, 43, 43, 43, 43, 43, 43, 43, 43, 43, 43, 43, 43, 43, 43, 43, 43, 43, 43, 43,\n",
    "43, 43, 43, 43, 43, 43, 43, 43, 43, 43, 43, 43, 43, 43, 43, 43, 43, 43, 42, 42, 42, 42, 42, 42, 42, 42, 42, 42, 42, 42, 42, 43, 43, 43, 43, 43, 43, 43, 43, 43, 43, 43, 43, 43, 43, 43, 43, 43, 43, 43, 43, 43, 43, 43, 43, 43, 43, 43, 43, 43, 43, 43, 43, 43, 43, 43, 43, 43, 43, 43, 43, 43, 43, 43, 43, 43, 43, 43, 43, 43, 43, 43, 43, 43, 43, 43, 43, 43, 43, 43, 43, 43, 43, 43, 43, 43, 43, 43, 43, 43, 43, 43, 43, 43, 43, 43, 43, 43, 43,\n",
    "43, 43, 43, 43, 43, 43, 43, 43, 43, 43, 43, 43, 43, 43, 43, 43, 43, 43, 43, 43, 43, 43, 43, 43, 43, 43, 43, 43, 43, 43, 43, 43, 43, 43, 43, 43, 43, 43, 43, 43, 43, 43, 43, 43, 43, 43, 43, 43, 43, 43, 43, 43, 43, 43, 43, 43, 43, 43, 43, 43, 43, 43, 43, 43, 43, 43, 43, 43, 43, 43, 43, 43, 43, 43, 43, 43, 43, 43, 43, 43, 43, 43, 43, 43, 43, 43, 43, 43, 43, 43, 43, 43, 43, 43, 43, 43, 43, 43, 43, 43, 44, 44, 44, 44, 44, 44, 44, 44, 44,\n",
    "44, 44, 44, 44, 44, 44, 44, 44, 44, 44, 44, 44, 44, 44, 44, 44, 44, 44, 44, 44, 44, 44, 44, 44, 44, 44, 44, 44, 44, 44, 44, 44, 44, 44, 44, 44, 44, 44, 44, 44, 44, 44, 44, 44, 44, 44, 44, 44, 44, 44, 44, 44, 44, 44, 44, 44, 44, 44, 44, 44, 44, 44, 44, 44, 44, 44, 44, 44, 44, 44, 44, 44, 44, 44, 44, 44, 44, 44, 44, 44, 44, 44, 44, 44, 44, 44, 44, 44, 44, 44, 44, 44, 44, 44, 44, 44, 44, 44, 44, 44, 44, 44, 44, 44, 44, 44, 44, 44, 44,\n",
    "44, 44, 44, 44, 43, 43, 43, 43, 43, 43, 43, 43, 43, 43, 43, 43, 44, 44, 44, 44, 44, 44, 44, 45, 45, 45, 45, 45, 45, 45, 45, 45, 45, 45, 45, 45, 45, 45, 45, 45, 45, 45, 45, 45, 45, 45, 45, 45, 45, 45, 45, 45, 45, 45, 45, 45, 45, 45, 45, 45, 45, 45, 45, 45, 45, 45, 45, 45, 45, 45, 45, 45, 45, 45, 45, 45, 45, 45, 45, 45, 45, 45, 45, 45, 45, 45, 45, 45, 45, 45, 45, 45, 45, 45, 45, 45, 45, 45, 45, 45, 45, 45, 45, 45, 45, 45, 45, 45, 45,\n",
    "45, 45, 45, 45, 45, 45, 45, 45, 45, 45, 45, 45, 45, 45, 45, 45, 45, 45, 45, 45, 45, 45, 45, 45, 45, 45, 45, 45, 45, 45, 45, 45, 45, 45, 45, 45, 45, 45, 45, 45, 45, 45, 45, 45, 45, 45, 45, 45, 45, 45, 45, 45, 45, 45, 45, 45, 45, 45, 45, 45, 45, 45, 45, 45, 45, 45, 45, 45, 45, 45, 45, 45, 45, 45, 45, 45, 45, 45, 45, 45, 45, 45, 45, 45, 45, 45, 45, 45, 45, 45, 45, 45, 45, 45, 45, 45, 45, 45, 45, 45, 45, 45, 45, 45, 45, 45, 45, 45, 45,\n",
    "45, 45, 45, 45, 45, 45, 45, 45, 45, 45, 45, 45, 45, 45, 45, 45, 45, 45, 45, 45, 45, 45, 45, 45, 45, 45, 45, 45, 45, 45, 45, 45, 45, 45, 45, 45, 45, 45, 45, 45, 45, 45, 45, 45, 45, 45, 45, 45, 45, 45, 45, 45, 45, 45, 45, 45, 45, 45, 45, 45, 45, 45, 45, 45, 45, 45, 45, 45, 45, 45, 45, 45, 45, 45, 45, 45, 45, 45, 45, 45, 45, 45, 45, 45, 45, 45, 45, 45, 45, 45, 45, 45, 45, 45, 45, 45, 45, 45, 45, 45, 45, 45, 45, 45, 45, 45, 45, 45, 45,\n",
    "45, 45, 45, 45, 45, 45, 45, 45, 45, 45, 45, 45, 45, 45, 45, 45, 45, 45, 45, 45, 45, 45, 45, 45, 45, 45, 45, 45, 45, 45, 45, 45, 45, 45, 45, 45, 45, 45, 45, 45, 45, 45, 45, 45, 45, 45, 45, 45, 45, 45, 45, 45, 45, 45, 45, 45, 45, 45, 45, 45, 45, 45, 45, 45, 45, 45, 45, 45, 45, 45, 45, 45]"
   ]
  },
  {
   "cell_type": "code",
   "execution_count": 32,
   "metadata": {},
   "outputs": [
    {
     "ename": "NameError",
     "evalue": "name 'impactoIteraciones' is not defined",
     "output_type": "error",
     "traceback": [
      "\u001b[1;31m---------------------------------------------------------------------------\u001b[0m",
      "\u001b[1;31mNameError\u001b[0m                                 Traceback (most recent call last)",
      "\u001b[1;32m<ipython-input-32-0be0a177f404>\u001b[0m in \u001b[0;36m<module>\u001b[1;34m\u001b[0m\n\u001b[1;32m----> 1\u001b[1;33m \u001b[0mlen\u001b[0m\u001b[1;33m(\u001b[0m\u001b[0mimpactoIteraciones\u001b[0m\u001b[1;33m)\u001b[0m\u001b[1;33m\u001b[0m\u001b[1;33m\u001b[0m\u001b[0m\n\u001b[0m",
      "\u001b[1;31mNameError\u001b[0m: name 'impactoIteraciones' is not defined"
     ]
    }
   ],
   "source": [
    "len(impactoIteraciones)"
   ]
  },
  {
   "cell_type": "code",
   "execution_count": null,
   "metadata": {},
   "outputs": [],
   "source": [
    "x = [i for i in range(1, 500+1)]\n",
    "impactoOptimosJuli = impactoOptimosJuli[:500]\n",
    "impactoSoluciones = impactoSoluciones[:500]\n",
    "impactoModificaciones = impactoModificaciones[:500]"
   ]
  },
  {
   "cell_type": "code",
   "execution_count": null,
   "metadata": {},
   "outputs": [],
   "source": [
    "import matplotlib.pyplot as plt\n",
    "import numpy as np\n",
    "\n",
    "fig = plt.figure()\n",
    "ax = fig.add_subplot(1, 1, 1)\n",
    "\n",
    "\n",
    "ax.xaxis.set_ticks_position('bottom')\n",
    "ax.yaxis.set_ticks_position('left')\n",
    "\n",
    "ax.set_xscale('log')\n",
    "\n",
    "ax.set_xlabel(\"Iteraciones (Log)\")\n",
    "ax.set_ylabel(\"Impacto\")\n",
    "\n",
    "\n",
    "\n",
    "# plot the function\n",
    "ax.plot(x,impactoOptimosJuli, 'r', label = \"Parámetros Óptimo\")\n",
    "ax.plot(x,impactoSoluciones, 'b', label = \"Parámetros Mem Sol\")\n",
    "ax.plot(x,impactoModificaciones, 'g', label = \"Parámetros Mem Modif\")\n",
    "\n",
    "ax.legend()\n",
    "\n",
    "\n",
    "# show the plot\n",
    "plt.show()"
   ]
  },
  {
   "cell_type": "code",
   "execution_count": null,
   "metadata": {},
   "outputs": [],
   "source": []
  }
 ],
 "metadata": {
  "kernelspec": {
   "display_name": "Python 3",
   "language": "python",
   "name": "python3"
  },
  "language_info": {
   "codemirror_mode": {
    "name": "ipython",
    "version": 3
   },
   "file_extension": ".py",
   "mimetype": "text/x-python",
   "name": "python",
   "nbconvert_exporter": "python",
   "pygments_lexer": "ipython3",
   "version": "3.7.3"
  }
 },
 "nbformat": 4,
 "nbformat_minor": 4
}
