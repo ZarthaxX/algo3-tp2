{
 "cells": [
  {
   "cell_type": "markdown",
   "metadata": {},
   "source": [
    "# Correr experimentos\n",
    "En este archivo está el código para correr los experimentos y escribir los resultados en archivos CSV.\n",
    "> Los archivos se guardan en la carpeta _resultados_."
   ]
  },
  {
   "cell_type": "code",
   "execution_count": 1,
   "metadata": {},
   "outputs": [],
   "source": [
    "import math, subprocess\n",
    "import pandas as pd\n",
    "import numpy as np\n",
    "from IPython.display import display, clear_output"
   ]
  },
  {
   "cell_type": "code",
   "execution_count": 2,
   "metadata": {},
   "outputs": [],
   "source": [
    "def leer_instancia(path_instancia):\n",
    "    with open(path_instancia, \"r\") as f:\n",
    "        return f.read();\n",
    "\n",
    "# Leemos instancias\n",
    "df_optimo = pd.read_csv(\"..\\\\instances\\\\optimo\\\\indice.csv\");\n",
    "df_random_denso_denso = pd.read_csv(\"..\\\\instances\\\\random-denso-denso\\\\indice.csv\");\n",
    "df_random_denso_ralo = pd.read_csv(\"..\\\\instances\\\\random-denso-ralo\\\\indice.csv\");\n",
    "df_random_ralo_denso = pd.read_csv(\"..\\\\instances\\\\random-ralo-denso\\\\indice.csv\");\n",
    "df_random_ralo_ralo = pd.read_csv(\"..\\\\instances\\\\random-ralo-ralo\\\\indice.csv\");\n",
    "\n"
   ]
  },
  {
   "cell_type": "code",
   "execution_count": 3,
   "metadata": {},
   "outputs": [],
   "source": [
    "def correr_experimento(metodo, archivo_instancia, longitud_tabu, tipo_memoria, porcentaje_vecindad,iteraciones):\n",
    "    # Leer archivo de la instancia.\n",
    "    instancia = leer_instancia(archivo_instancia)\n",
    "\n",
    "    # Crear proceso para ejecutar el codigo.\n",
    "    process = subprocess.Popen([\"../../main\", metodo, str(longitud_tabu), tipo_memoria, str(porcentaje_vecindad),str(iteraciones)], stderr=subprocess.PIPE, stdout=subprocess.PIPE, stdin=subprocess.PIPE, universal_newlines = True)\n",
    "\n",
    "    # Poner la instancia en la entrada estandar.\n",
    "    process.stdin.write(instancia)\n",
    "    process.stdin.flush()\n",
    "\n",
    "    # Correr experimento.\n",
    "    exit_code = process.wait()\n",
    "    algoritmo = metodo\n",
    "    \n",
    "    # Verificar que el proceso no fallo.\n",
    "    assert exit_code == 0, F\"Hubo un error en la experimentacion para el algoritmo: {algoritmo} con la instancia {archivo_instancia}.\"\n",
    "    # Leer salida de STDERR con los tiempos de ejecucion de cada metodo.\n",
    "    outputs = process.stderr.readline().split(); \n",
    "    tiempo_de_ejecucion = float(outputs[0]);\n",
    "    impacto = int(outputs[1]);\n",
    "    cant_colores = int(outputs[2]);\n",
    "    longitud_tabu = int(outputs[3]);\n",
    "    tipo_memoria = outputs[4];\n",
    "    porcentaje_vecindad = int(outputs[5]);\n",
    "\n",
    "    process.stdin.close();\n",
    "    process.stdout.close();\n",
    "    process.stderr.close();\n",
    "\n",
    "    return tiempo_de_ejecucion, impacto, cant_colores, longitud_tabu, tipo_memoria, porcentaje_vecindad;"
   ]
  },
  {
   "cell_type": "markdown",
   "metadata": {},
   "source": [
    "## Corremos los experimentos\n",
    "Vamos a guardar una tabla con las ejecuciones y sus respectivos tiempos."
   ]
  },
  {
   "cell_type": "code",
   "execution_count": null,
   "metadata": {},
   "outputs": [],
   "source": []
  },
  {
   "cell_type": "code",
   "execution_count": 4,
   "metadata": {},
   "outputs": [],
   "source": [
    "experimentos = [];"
   ]
  },
  {
   "cell_type": "markdown",
   "metadata": {},
   "source": [
    "# Experimento 1"
   ]
  },
  {
   "cell_type": "code",
   "execution_count": 15,
   "metadata": {},
   "outputs": [],
   "source": [
    "# df_random_ralo_ralo.shape[0]\n",
    "for n in range(0, df_random_ralo_ralo.shape[0]):\n",
    "    fila = df_random_ralo_ralo.iloc[n];\n",
    "    experimentos.append([fila[\"dataset\"], fila[\"n\"], fila[\"mG\"], fila[\"mH\"], \"GB\", fila[\"archivo\"]]);\n",
    "    experimentos.append([fila[\"dataset\"], fila[\"n\"], fila[\"mG\"], fila[\"mH\"], \"GS\", fila[\"archivo\"]]);\n",
    "    experimentos.append([fila[\"dataset\"], fila[\"n\"], fila[\"mG\"], fila[\"mH\"], \"GE\", fila[\"archivo\"]]);\n",
    "\n",
    "for n in range(0, df_random_ralo_denso.shape[0]):\n",
    "    fila = df_random_ralo_denso.iloc[n];\n",
    "    experimentos.append([fila[\"dataset\"], fila[\"n\"], fila[\"mG\"], fila[\"mH\"], \"GB\", fila[\"archivo\"]]);\n",
    "    experimentos.append([fila[\"dataset\"], fila[\"n\"], fila[\"mG\"], fila[\"mH\"], \"GS\", fila[\"archivo\"]]);\n",
    "    experimentos.append([fila[\"dataset\"], fila[\"n\"], fila[\"mG\"], fila[\"mH\"], \"GE\", fila[\"archivo\"]]);\n",
    "\n",
    "for n in range(0, df_random_denso_ralo.shape[0]):\n",
    "    fila = df_random_denso_ralo.iloc[n];\n",
    "    experimentos.append([fila[\"dataset\"], fila[\"n\"], fila[\"mG\"], fila[\"mH\"], \"GB\", fila[\"archivo\"]]);\n",
    "    experimentos.append([fila[\"dataset\"], fila[\"n\"], fila[\"mG\"], fila[\"mH\"], \"GS\", fila[\"archivo\"]]);\n",
    "    experimentos.append([fila[\"dataset\"], fila[\"n\"], fila[\"mG\"], fila[\"mH\"], \"GE\", fila[\"archivo\"]]);\n",
    "\n",
    "for n in range(0, df_random_denso_denso.shape[0]):\n",
    "    fila = df_random_denso_denso.iloc[n];\n",
    "    experimentos.append([fila[\"dataset\"], fila[\"n\"], fila[\"mG\"], fila[\"mH\"], \"GB\", fila[\"archivo\"]]);\n",
    "    experimentos.append([fila[\"dataset\"], fila[\"n\"], fila[\"mG\"], fila[\"mH\"], \"GS\", fila[\"archivo\"]]);\n",
    "    experimentos.append([fila[\"dataset\"], fila[\"n\"], fila[\"mG\"], fila[\"mH\"], \"GE\", fila[\"archivo\"]]);\n",
    "\n"
   ]
  },
  {
   "cell_type": "code",
   "execution_count": null,
   "metadata": {},
   "outputs": [],
   "source": []
  },
  {
   "cell_type": "markdown",
   "metadata": {},
   "source": [
    "# Experimento 2"
   ]
  },
  {
   "cell_type": "code",
   "execution_count": 31,
   "metadata": {},
   "outputs": [],
   "source": [
    "for n in range(0, df_optimo.shape[0]):\n",
    "    fila = df_optimo.iloc[n];\n",
    "    experimentos.append([fila[\"dataset\"], fila[\"n\"], fila[\"mG\"], fila[\"mH\"], \"GB\", fila[\"archivo\"]]);\n",
    "\n",
    "for n in range(0, df_optimo.shape[0]):\n",
    "    fila = df_optimo.iloc[n];\n",
    "    experimentos.append([fila[\"dataset\"], fila[\"n\"], fila[\"mG\"], fila[\"mH\"], \"GS\", fila[\"archivo\"]]);\n",
    "    \n",
    "for n in range(0, df_optimo.shape[0]):\n",
    "    fila = df_optimo.iloc[n];\n",
    "    experimentos.append([fila[\"dataset\"], fila[\"n\"], fila[\"mG\"], fila[\"mH\"], \"GE\", fila[\"archivo\"]]);"
   ]
  },
  {
   "cell_type": "markdown",
   "metadata": {},
   "source": [
    "# Experimento 3"
   ]
  },
  {
   "cell_type": "code",
   "execution_count": 41,
   "metadata": {},
   "outputs": [],
   "source": [
    "longitudes_tabu = [10,20,30,40,50]\n",
    "porcentaje_vecindad = [10,25,50]\n",
    "tipo_memoria = [\"soluciones\",\"modificaciones\"]\n",
    "for n in range(df_optimo.shape[0]):\n",
    "    fila = df_optimo.iloc[n]\n",
    "    for long in longitudes_tabu:\n",
    "        for porcentaje in porcentaje_vecindad:\n",
    "            for memoria in tipo_memoria:\n",
    "                experimentos.append([fila[\"dataset\"], fila[\"n\"], fila[\"mG\"], fila[\"mH\"], \"TS\", fila[\"archivo\"],long,memoria,porcentaje,100])\n",
    "\n"
   ]
  },
  {
   "cell_type": "markdown",
   "metadata": {},
   "source": [
    "# Experimento 4"
   ]
  },
  {
   "cell_type": "code",
   "execution_count": 5,
   "metadata": {},
   "outputs": [],
   "source": [
    "iteraciones = [50,100,150,200]\n",
    "longitud = [1,5,10,20,40]\n",
    "\n",
    "for n in range(0, 30):\n",
    "    for long in longitud:\n",
    "        for it in iteraciones:\n",
    "            fila_rr = df_random_ralo_ralo.iloc[n];\n",
    "            fila_rd = df_random_ralo_denso.iloc[n];\n",
    "            fila_dr = df_random_denso_ralo.iloc[n];\n",
    "            fila_dd = df_random_denso_denso.iloc[n];\n",
    "            experimentos.append([fila_rr[\"dataset\"], fila_rr[\"n\"], fila_rr[\"mG\"], fila_rr[\"mH\"], \"TS\", fila_rr[\"archivo\"],int(it*(long/100)),\"modificaciones\",25,it]);\n",
    "            experimentos.append([fila_rd[\"dataset\"], fila_rd[\"n\"], fila_rd[\"mG\"], fila_rd[\"mH\"], \"TS\", fila_rd[\"archivo\"],int(it*(long/100)),\"modificaciones\",25,it]);\n",
    "            experimentos.append([fila_dr[\"dataset\"], fila_dr[\"n\"], fila_dr[\"mG\"], fila_dr[\"mH\"], \"TS\", fila_dr[\"archivo\"],int(it*(long/100)),\"modificaciones\",25,it]);\n",
    "            experimentos.append([fila_dd[\"dataset\"], fila_dd[\"n\"], fila_dd[\"mG\"], fila_dd[\"mH\"], \"TS\", fila_dd[\"archivo\"],int(it*(long/100)),\"modificaciones\",25,it]);"
   ]
  },
  {
   "cell_type": "markdown",
   "metadata": {},
   "source": [
    "# Experimento 5"
   ]
  },
  {
   "cell_type": "code",
   "execution_count": null,
   "metadata": {},
   "outputs": [],
   "source": [
    "for n in range(0, df_random_ralo_ralo.shape[0],10):\n",
    "    fila = df_random_ralo_ralo.iloc[n];\n",
    "    experimentos.append([fila[\"dataset\"], fila[\"n\"], fila[\"mG\"], fila[\"mH\"], \"TS\", fila[\"archivo\"],10,\"modificaciones\",25,100])\n",
    "\n",
    "for n in range(0, df_random_ralo_denso.shape[0],10):\n",
    "    fila = df_random_ralo_denso.iloc[n];\n",
    "    experimentos.append([fila[\"dataset\"], fila[\"n\"], fila[\"mG\"], fila[\"mH\"], \"TS\", fila[\"archivo\"],10,\"modificaciones\",25,100])\n",
    "\n",
    "for n in range(0, df_random_denso_ralo.shape[0],10):\n",
    "    fila = df_random_denso_ralo.iloc[n];\n",
    "    experimentos.append([fila[\"dataset\"], fila[\"n\"], fila[\"mG\"], fila[\"mH\"], \"TS\", fila[\"archivo\"],10,\"modificaciones\",25,100])\n",
    "\n",
    "for n in range(0, df_random_denso_denso.shape[0],10):\n",
    "    fila = df_random_denso_denso.iloc[n];\n",
    "    experimentos.append([fila[\"dataset\"], fila[\"n\"], fila[\"mG\"], fila[\"mH\"], \"TS\", fila[\"archivo\"],10,\"modificaciones\",25,100])\n"
   ]
  },
  {
   "cell_type": "code",
   "execution_count": 6,
   "metadata": {
    "tags": []
   },
   "outputs": [
    {
     "data": {
      "text/plain": [
       "'Experimento: 801/2400'"
      ]
     },
     "metadata": {},
     "output_type": "display_data"
    },
    {
     "ename": "AssertionError",
     "evalue": "Hubo un error en la experimentacion para el algoritmo: TS con la instancia ..\\instances\\random-ralo-ralo\\random-ralo-ralo-15-30-30-0.in.",
     "output_type": "error",
     "traceback": [
      "\u001b[0;31m---------------------------------------------------------------------------\u001b[0m",
      "\u001b[0;31mAssertionError\u001b[0m                            Traceback (most recent call last)",
      "\u001b[0;32m<ipython-input-6-f501cfa34a3a>\u001b[0m in \u001b[0;36m<module>\u001b[0;34m\u001b[0m\n\u001b[1;32m     45\u001b[0m                                                                                                         \u001b[0mlongitud_tabu\u001b[0m\u001b[0;34m,\u001b[0m\u001b[0;34m\u001b[0m\u001b[0;34m\u001b[0m\u001b[0m\n\u001b[1;32m     46\u001b[0m                                                                                                         \u001b[0mtipo_memoria\u001b[0m\u001b[0;34m,\u001b[0m\u001b[0;34m\u001b[0m\u001b[0;34m\u001b[0m\u001b[0m\n\u001b[0;32m---> 47\u001b[0;31m                                                                                                         porcentaje_vecindad,iteraciones)\n\u001b[0m\u001b[1;32m     48\u001b[0m \u001b[0;34m\u001b[0m\u001b[0m\n\u001b[1;32m     49\u001b[0m         \u001b[0mtiempos\u001b[0m\u001b[0;34m.\u001b[0m\u001b[0mappend\u001b[0m\u001b[0;34m(\u001b[0m\u001b[0mtiempo\u001b[0m\u001b[0;34m)\u001b[0m\u001b[0;34m;\u001b[0m\u001b[0;34m\u001b[0m\u001b[0;34m\u001b[0m\u001b[0m\n",
      "\u001b[0;32m<ipython-input-3-a8a8aa51fe02>\u001b[0m in \u001b[0;36mcorrer_experimento\u001b[0;34m(metodo, archivo_instancia, longitud_tabu, tipo_memoria, porcentaje_vecindad, iteraciones)\u001b[0m\n\u001b[1;32m     15\u001b[0m \u001b[0;34m\u001b[0m\u001b[0m\n\u001b[1;32m     16\u001b[0m     \u001b[0;31m# Verificar que el proceso no fallo.\u001b[0m\u001b[0;34m\u001b[0m\u001b[0;34m\u001b[0m\u001b[0;34m\u001b[0m\u001b[0m\n\u001b[0;32m---> 17\u001b[0;31m     \u001b[0;32massert\u001b[0m \u001b[0mexit_code\u001b[0m \u001b[0;34m==\u001b[0m \u001b[0;36m0\u001b[0m\u001b[0;34m,\u001b[0m \u001b[0;34mF\"Hubo un error en la experimentacion para el algoritmo: {algoritmo} con la instancia {archivo_instancia}.\"\u001b[0m\u001b[0;34m\u001b[0m\u001b[0;34m\u001b[0m\u001b[0m\n\u001b[0m\u001b[1;32m     18\u001b[0m     \u001b[0;31m# Leer salida de STDERR con los tiempos de ejecucion de cada metodo.\u001b[0m\u001b[0;34m\u001b[0m\u001b[0;34m\u001b[0m\u001b[0;34m\u001b[0m\u001b[0m\n\u001b[1;32m     19\u001b[0m     \u001b[0moutputs\u001b[0m \u001b[0;34m=\u001b[0m \u001b[0mprocess\u001b[0m\u001b[0;34m.\u001b[0m\u001b[0mstderr\u001b[0m\u001b[0;34m.\u001b[0m\u001b[0mreadline\u001b[0m\u001b[0;34m(\u001b[0m\u001b[0;34m)\u001b[0m\u001b[0;34m.\u001b[0m\u001b[0msplit\u001b[0m\u001b[0;34m(\u001b[0m\u001b[0;34m)\u001b[0m\u001b[0;34m;\u001b[0m\u001b[0;34m\u001b[0m\u001b[0;34m\u001b[0m\u001b[0m\n",
      "\u001b[0;31mAssertionError\u001b[0m: Hubo un error en la experimentacion para el algoritmo: TS con la instancia ..\\instances\\random-ralo-ralo\\random-ralo-ralo-15-30-30-0.in."
     ]
    }
   ],
   "source": [
    "columnas = [\n",
    "    \"dataset\",\n",
    "    \"n\",\n",
    "    \"mG\",\n",
    "    \"mH\",\n",
    "    \"metodo\",\n",
    "    \"tiempo\",\n",
    "    \"impacto\",\n",
    "    \"cant_colores\",\n",
    "    \"longitud_tabu\",\n",
    "    \"tipo_memoria\",\n",
    "    \"porcentaje_vecindad\",\n",
    "    \"iteraciones\"\n",
    "];\n",
    "\n",
    "filas = [];\n",
    "numero = 1\n",
    "T = 5 # Numero de veces que se ejecuta cada experimento (para mayor fidelidad del tiempo).\n",
    "for experimento in experimentos:\n",
    "    # Voy mostrando que experimento se esta ejecutando.\n",
    "    clear_output(wait=True)\n",
    "    display('Experimento: ' + str(numero) + \"/\" + str(len(experimentos)))\n",
    "    numero += 1\n",
    "    \n",
    "    # Ejecutamos el experimento T veces y obtenemos la mediana.\n",
    "    tiempos = []\n",
    "    impactos = []\n",
    "    cant_colores = []\n",
    "    longitud_tabu = 0\n",
    "    tipo_memoria = 0\n",
    "    longitud_tabu = 0\n",
    "    tipo_memoria = \"none\"\n",
    "    porcentaje_vecindad = 0\n",
    "    iteraciones = 0\n",
    "    \n",
    "    if len(experimento) > 6:\n",
    "        longitud_tabu = experimento[6]\n",
    "        tipo_memoria = experimento[7]\n",
    "        porcentaje_vecindad = experimento[8]\n",
    "        iteraciones = experimento[9]\n",
    "    \n",
    "    for i in range(0, T):\n",
    "        tiempo, impacto, colores, longitud_tabu, tipo_memoria, porcentaje_vecindad = correr_experimento(experimento[4],\n",
    "                                                                                                        experimento[5],\n",
    "                                                                                                        longitud_tabu,\n",
    "                                                                                                        tipo_memoria,\n",
    "                                                                                                        porcentaje_vecindad,iteraciones)\n",
    "        \n",
    "        tiempos.append(tiempo);\n",
    "        impactos.append(impacto);\n",
    "        cant_colores.append(colores);\n",
    "        \n",
    "    tiempo_promedio = np.median(tiempos);\n",
    "    impacto_promedio = np.median(impactos);\n",
    "    cant_colores_promedio = np.median(cant_colores);\n",
    "    \n",
    "    filas.append([\n",
    "        experimento[0],\n",
    "        experimento[1],\n",
    "        experimento[2],\n",
    "        experimento[3],\n",
    "        experimento[4],\n",
    "        tiempo_promedio,\n",
    "        impacto_promedio,\n",
    "        cant_colores_promedio,\n",
    "        longitud_tabu,\n",
    "        tipo_memoria,\n",
    "        porcentaje_vecindad,\n",
    "        iteraciones]\n",
    "    );\n"
   ]
  },
  {
   "cell_type": "code",
   "execution_count": 12,
   "metadata": {},
   "outputs": [],
   "source": [
    "\n",
    "from os import listdir\n",
    "from os.path import isfile, join\n",
    "    \n",
    "path = \"../../instancias\"; \n",
    "onlyfiles = [join(path,f) for f in listdir(path) if isfile(join(path, f)) and f.find(\".out\") != -1]\n",
    "\n",
    "for i in range(0, df_optimo.shape[0]):\n",
    "    fila = df_optimo.iloc[i];\n",
    "    file = onlyfiles[i]\n",
    "    with open(file) as f:\n",
    "        coloring = int(next(f)) # read first line\n",
    "        colors = [int(x) for x in next(f).split()]\n",
    "        uniqueColors = len(set(colors))\n",
    "        filas.append([fila[\"dataset\"], fila[\"n\"], fila[\"mG\"], fila[\"mH\"], \"OPTIMO\", 0, coloring, uniqueColors, 0, \"none\", 0]);\n"
   ]
  },
  {
   "cell_type": "code",
   "execution_count": 13,
   "metadata": {},
   "outputs": [],
   "source": [
    "df_resultado = pd.DataFrame(filas, columns=columnas);\n",
    "df_resultado.to_csv(\"../results/resultado.csv\", index=False, header=True);"
   ]
  },
  {
   "cell_type": "code",
   "execution_count": null,
   "metadata": {},
   "outputs": [],
   "source": []
  }
 ],
 "metadata": {
  "kernelspec": {
   "display_name": "Python 3",
   "language": "python",
   "name": "python3"
  },
  "language_info": {
   "codemirror_mode": {
    "name": "ipython",
    "version": 3
   },
   "file_extension": ".py",
   "mimetype": "text/x-python",
   "name": "python",
   "nbconvert_exporter": "python",
   "pygments_lexer": "ipython3",
   "version": "3.8.5"
  }
 },
 "nbformat": 4,
 "nbformat_minor": 4
}
