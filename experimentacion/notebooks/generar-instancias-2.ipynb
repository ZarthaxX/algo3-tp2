{
 "cells": [
  {
   "cell_type": "markdown",
   "metadata": {},
   "source": [
    "# Generador de instancias\n",
    "En este notebook está el código para generar los sets de instancias que se usan para experimentar.\n",
    "- Estas instancias van a ser guardadas en la carpeta __instancias__.\n",
    "- Cada set estará en su propia carpeta y tendrá un archivo _indice.csv_ que contendrá información sobre las instancias."
   ]
  },
  {
   "cell_type": "code",
   "execution_count": 9,
   "metadata": {},
   "outputs": [],
   "source": [
    "import random, math\n",
    "import pandas as pd\n",
    "import numpy as np\n",
    "import os"
   ]
  },
  {
   "cell_type": "code",
   "execution_count": 10,
   "metadata": {},
   "outputs": [],
   "source": [
    "def save_instance(dataset, instance_name, n, mG, mH, interseccion, edges, i):\n",
    "    instance_name = f\"{instance_name}-{n}-{mG}-{mH}-{interseccion}-{i}\";\n",
    "    directory = f\"..\\\\instances\\\\{dataset}\"\n",
    "    if not os.path.exists(directory):\n",
    "        os.makedirs(directory)\n",
    "    with open(f\"{directory}\\\\{instance_name}.in\", \"w+\") as f:\n",
    "        print(n, mG, mH, file=f)\n",
    "        for edge in edges: \n",
    "            print(f\"{edge[0]} {edge[1]}\\n\", file=f, end=\"\")"
   ]
  },
  {
   "cell_type": "code",
   "execution_count": 11,
   "metadata": {},
   "outputs": [],
   "source": [
    "from pathlib import Path\n",
    "\n",
    "def save_row(filas_indice, dataset, instance_name, n, mG, mH, interseccion, i):\n",
    "    filas_indice.append([dataset, instance_name+f\"-{n}-{mG}-{mH}-{interseccion}-{i}\", n, mG, mH, interseccion, i, \"..\\\\instances\\\\\"+ dataset + \"\\\\\"+ instance_name+f\"-{n}-{mG}-{mH}-{interseccion}-{i}.in\"])\n",
    "\n",
    "def save_to_csv(filas_indice,dataset):\n",
    "    df = pd.DataFrame(filas_indice, columns=[\"dataset\", \"instancia\", \"n\", \"mG\", \"mH\",\"interseccion\",\"i\", \"archivo\"])\n",
    "    Path(\"..\\\\instances\\\\\"+dataset).mkdir(parents=True, exist_ok=True)\n",
    "    df.to_csv(f\"..\\\\instances\\\\{dataset}\\\\indice.csv\", index=False, header=True)"
   ]
  },
  {
   "cell_type": "code",
   "execution_count": 12,
   "metadata": {},
   "outputs": [],
   "source": [
    "random.seed(42)"
   ]
  },
  {
   "cell_type": "markdown",
   "metadata": {},
   "source": [
    "## Optimo"
   ]
  },
  {
   "cell_type": "code",
   "execution_count": 13,
   "metadata": {},
   "outputs": [],
   "source": [
    "from os import listdir\n",
    "from os.path import isfile, join\n",
    "\n",
    "dataset = \"optimo\"\n",
    "instance_name = \"optimo\"\n",
    "filas_indice = []\n",
    "\n",
    "path = \"../../instancias\"; \n",
    "onlyfiles = [join(path,f) for f in listdir(path) if isfile(join(path, f)) and f.find(\".in\") != -1]\n",
    "\n",
    "for file in onlyfiles:\n",
    "    with open(file) as f:\n",
    "        n, mG, mH = [int(x) for x in next(f).split()] # read first line\n",
    "        edges = []\n",
    "        for line in f: # read rest of lines\n",
    "            edges.append([int(x) for x in line.split()])\n",
    "            \n",
    "        save_instance(dataset,instance_name, n, mG, mH, 0, edges, 1)\n",
    "        save_row(filas_indice, dataset, instance_name, n, mG, mH, 0, 1)\n",
    "        \n",
    "save_to_csv(filas_indice,dataset)"
   ]
  },
  {
   "cell_type": "markdown",
   "metadata": {},
   "source": [
    "## Generar instancias Random Densas."
   ]
  },
  {
   "cell_type": "markdown",
   "metadata": {},
   "source": [
    "Guardar instancias que tienen distintas intersecciones en la misma carpeta"
   ]
  },
  {
   "cell_type": "code",
   "execution_count": 14,
   "metadata": {},
   "outputs": [],
   "source": [
    "def generarFamilia(dataset,instance_name,nList,fmG,fmH,interseccion,cantReps):\n",
    "    filas_indice = []\n",
    "    \n",
    "    for n in nList:\n",
    "        mG = fmG(n)\n",
    "        mH = fmH(n)\n",
    "        listaAristas = [(nodo1,nodo2) for nodo1 in range(1 , n+1) for nodo2 in range(1, n+1) if nodo1<nodo2]\n",
    "    \n",
    "        for i in range(cantReps): \n",
    "     \n",
    "            #Armo G y H densos para n nodos.\n",
    "            random.shuffle(listaAristas)\n",
    "            \n",
    "            minimoM = min(mG,mH)\n",
    "            cantidadAristas = int(minimoM * (interseccion / 100))\n",
    "            \n",
    "            aristasInterseccion = listaAristas[:cantidadAristas]\n",
    "            aristasG = listaAristas[cantidadAristas:mG] + aristasInterseccion\n",
    "            aristasH = listaAristas[mG:mG+mH-cantidadAristas] + aristasInterseccion\n",
    "            \n",
    "            save_instance(dataset,instance_name, n, mG, mH, interseccion, aristasG + aristasH, i)\n",
    "            save_row(filas_indice, dataset, instance_name, n, mG, mH, interseccion, i)\n",
    "    save_to_csv(filas_indice,dataset)\n"
   ]
  },
  {
   "cell_type": "markdown",
   "metadata": {},
   "source": [
    "Guardar instancias que tienen distintas intersecciones en distintas carpetas"
   ]
  },
  {
   "cell_type": "code",
   "execution_count": 15,
   "metadata": {},
   "outputs": [],
   "source": [
    "def generarFamiliaInterseccion(dataset,instance_name,nList,fmG,fmH,interseccion,cantReps):\n",
    "    filas_indice = []\n",
    "    \n",
    "    for n in nList:\n",
    "        mG = fmG(n)\n",
    "        mH = fmH(n)\n",
    "        listaAristas = [(nodo1,nodo2) for nodo1 in range(1 , n+1) for nodo2 in range(1, n+1) if nodo1<nodo2]\n",
    "    \n",
    "        for i in range(cantReps): \n",
    "     \n",
    "            #Armo G y H densos para n nodos.\n",
    "            random.shuffle(listaAristas)\n",
    "            \n",
    "            minimoM = min(mG,mH)\n",
    "            cantidadAristas = int(minimoM * (interseccion / 100))\n",
    "            \n",
    "            aristasInterseccion = listaAristas[:cantidadAristas]\n",
    "            aristasG = listaAristas[cantidadAristas:mG] + aristasInterseccion\n",
    "            aristasH = listaAristas[mG:mG+mH-cantidadAristas] + aristasInterseccion\n",
    "            \n",
    "            save_instance(f\"{dataset}-{interseccion}\",instance_name, n, mG, mH, interseccion, aristasG + aristasH, i)\n",
    "            save_row(filas_indice, f\"{dataset}-{interseccion}\", instance_name, n, mG, mH, interseccion, i)\n",
    "    save_to_csv(filas_indice,f\"{dataset}-{interseccion}\")\n",
    "    "
   ]
  },
  {
   "cell_type": "code",
   "execution_count": 16,
   "metadata": {},
   "outputs": [],
   "source": [
    "from os import listdir\n",
    "from os.path import isfile, join\n",
    "\n",
    "\n",
    "dataset_denso = \"random-denso-denso\"\n",
    "instance_name_denso = \"random-densos-denso\"\n",
    "\n",
    "dataset_ralo = \"random-ralo-ralo\"\n",
    "instance_name_ralo = \"random-ralo-ralo\"\n",
    "\n",
    "dataset_ralo_denso = \"random-ralo-denso\"\n",
    "instance_name_ralo_denso = \"random-ralo-denso\"\n",
    "\n",
    "dataset_denso_ralo = \"random-denso-ralo\"\n",
    "instance_name_denso_ralo = \"random-denso-ralo\"\n",
    "\n",
    "f_denso = lambda n : int(n*(n-1)/4)\n",
    "f_ralo = lambda n : int(2*n)\n",
    "   \n",
    "datasets = [\n",
    "    (\"random-denso-denso\",f_denso,f_denso),\n",
    "    (\"random-ralo-ralo\",f_ralo,f_ralo),\n",
    "    (\"random-ralo-denso\",f_ralo,f_denso),\n",
    "    (\"random-denso-ralo\",f_denso,f_ralo)\n",
    "]\n",
    "\n",
    "cantidadReps = 5\n",
    "minNumeroNodos = 10\n",
    "maxNumeroNodos = 85\n",
    "\n",
    "nList = [n for n in range(minNumeroNodos,maxNumeroNodos,10)]\n",
    "intersecciones = [25,75]\n",
    "\n",
    "for dataset, fmG, fmH in datasets:\n",
    "    for interseccion in intersecciones:\n",
    "        generarFamilia(dataset,dataset,nList,fmG,fmH,interseccion,cantidadReps)"
   ]
  },
  {
   "cell_type": "code",
   "execution_count": 17,
   "metadata": {},
   "outputs": [],
   "source": [
    "from os import listdir\n",
    "from os.path import isfile, join\n",
    "\n",
    "\n",
    "dataset_denso = \"random-denso-denso\"\n",
    "instance_name_denso = \"random-densos-denso\"\n",
    "\n",
    "dataset_ralo = \"random-ralo-ralo\"\n",
    "instance_name_ralo = \"random-ralo-ralo\"\n",
    "\n",
    "dataset_ralo_denso = \"random-ralo-denso\"\n",
    "instance_name_ralo_denso = \"random-ralo-denso\"\n",
    "\n",
    "dataset_denso_ralo = \"random-denso-ralo\"\n",
    "instance_name_denso_ralo = \"random-denso-ralo\"\n",
    "\n",
    "f_denso = lambda n : int(n*(n-1)/4)\n",
    "f_ralo = lambda n : int(2*n)\n",
    "   \n",
    "datasets = [\n",
    "    (\"random-denso-denso\",f_denso,f_denso),\n",
    "    (\"random-ralo-ralo\",f_ralo,f_ralo),\n",
    "    (\"random-ralo-denso\",f_ralo,f_denso),\n",
    "    (\"random-denso-ralo\",f_denso,f_ralo)\n",
    "]\n",
    "\n",
    "cantidadReps = 3\n",
    "minNumeroNodos = 10\n",
    "maxNumeroNodos = 101\n",
    "\n",
    "nList = [n for n in range(minNumeroNodos,maxNumeroNodos,10)]\n",
    "intersecciones = [25,75]\n",
    "\n",
    "for dataset, fmG, fmH in datasets:\n",
    "    for interseccion in intersecciones:\n",
    "        generarFamiliaInterseccion(dataset,dataset,nList,fmG,fmH,interseccion,cantidadReps)"
   ]
  },
  {
   "cell_type": "code",
   "execution_count": null,
   "metadata": {},
   "outputs": [],
   "source": []
  }
 ],
 "metadata": {
  "kernelspec": {
   "display_name": "Python 3",
   "language": "python",
   "name": "python3"
  },
  "language_info": {
   "codemirror_mode": {
    "name": "ipython",
    "version": 3
   },
   "file_extension": ".py",
   "mimetype": "text/x-python",
   "name": "python",
   "nbconvert_exporter": "python",
   "pygments_lexer": "ipython3",
   "version": "3.7.3"
  }
 },
 "nbformat": 4,
 "nbformat_minor": 4
}
