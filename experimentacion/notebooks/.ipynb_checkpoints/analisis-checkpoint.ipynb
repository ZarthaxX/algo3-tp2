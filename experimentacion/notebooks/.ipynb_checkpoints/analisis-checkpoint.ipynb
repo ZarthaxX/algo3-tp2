{
 "cells": [
  {
   "cell_type": "code",
   "execution_count": 98,
   "metadata": {
    "tags": []
   },
   "outputs": [],
   "source": [
    "import numpy as np\n",
    "import pandas as pd\n",
    "import seaborn as sns\n",
    "import matplotlib.pyplot as plt"
   ]
  },
  {
   "cell_type": "code",
   "execution_count": 99,
   "metadata": {},
   "outputs": [],
   "source": [
    "def correlacion_pearson(data_frame, columna1, columna2):\n",
    "    return np.corrcoef(data_frame[columna1], data_frame[columna2])[0,1];"
   ]
  },
  {
   "cell_type": "markdown",
   "metadata": {},
   "source": [
    "# Experimentos del TP de CMI"
   ]
  },
  {
   "cell_type": "markdown",
   "metadata": {},
   "source": [
    "# Datasets\n",
    "Para los experimentos se crean las siguientes familias de instancias para evaluar los distintos métodos.\n",
    "1. **Optimo**"
   ]
  },
  {
   "cell_type": "markdown",
   "metadata": {},
   "source": [
    "# Métodos\n",
    "Los métodos evaluados en este notebook son los siguientes:\n",
    "- **GS**: Fuerza Bruta.\n",
    "- **GE**: Backtracking con podas por optimalidad y factibilidad.\n",
    "- **GB**: \n",
    "- **TS**: Tabu search."
   ]
  },
  {
   "cell_type": "markdown",
   "metadata": {},
   "source": [
    "# Experimentos\n",
    "Leemos el dataframe con todos los resultados."
   ]
  },
  {
   "cell_type": "code",
   "execution_count": 100,
   "metadata": {},
   "outputs": [],
   "source": [
    "df_resultados = pd.read_csv(\"..\\\\results\\\\resultado.csv\");"
   ]
  },
  {
   "cell_type": "code",
   "execution_count": 101,
   "metadata": {},
   "outputs": [],
   "source": [
    "#mismo tamaño, aristas H, aristas G\n",
    "# obtener maximo impacto.\n",
    "\n",
    "#df_ejemploMax = df_resultados[]"
   ]
  },
  {
   "cell_type": "markdown",
   "metadata": {},
   "source": [
    "## Experimento 1: Heuristicas con optimo conocido"
   ]
  },
  {
   "cell_type": "code",
   "execution_count": null,
   "metadata": {},
   "outputs": [],
   "source": []
  },
  {
   "cell_type": "code",
   "execution_count": 102,
   "metadata": {},
   "outputs": [
    {
     "data": {
      "text/html": [
       "<div>\n",
       "<style scoped>\n",
       "    .dataframe tbody tr th:only-of-type {\n",
       "        vertical-align: middle;\n",
       "    }\n",
       "\n",
       "    .dataframe tbody tr th {\n",
       "        vertical-align: top;\n",
       "    }\n",
       "\n",
       "    .dataframe thead th {\n",
       "        text-align: right;\n",
       "    }\n",
       "</style>\n",
       "<table border=\"1\" class=\"dataframe\">\n",
       "  <thead>\n",
       "    <tr style=\"text-align: right;\">\n",
       "      <th></th>\n",
       "      <th>dataset</th>\n",
       "      <th>n</th>\n",
       "      <th>mG</th>\n",
       "      <th>mH</th>\n",
       "      <th>metodo</th>\n",
       "      <th>tiempo</th>\n",
       "      <th>impacto</th>\n",
       "      <th>cant_colores</th>\n",
       "      <th>longitud_tabu</th>\n",
       "      <th>tipo_memoria</th>\n",
       "      <th>porcentaje_vecindad</th>\n",
       "    </tr>\n",
       "  </thead>\n",
       "  <tbody>\n",
       "    <tr>\n",
       "      <th>0</th>\n",
       "      <td>random-ralo-ralo</td>\n",
       "      <td>10</td>\n",
       "      <td>20</td>\n",
       "      <td>20</td>\n",
       "      <td>GB</td>\n",
       "      <td>0.0</td>\n",
       "      <td>6.0</td>\n",
       "      <td>5.0</td>\n",
       "      <td>0</td>\n",
       "      <td>none</td>\n",
       "      <td>0</td>\n",
       "    </tr>\n",
       "    <tr>\n",
       "      <th>1</th>\n",
       "      <td>random-ralo-ralo</td>\n",
       "      <td>10</td>\n",
       "      <td>20</td>\n",
       "      <td>20</td>\n",
       "      <td>GS</td>\n",
       "      <td>0.0</td>\n",
       "      <td>4.0</td>\n",
       "      <td>4.0</td>\n",
       "      <td>0</td>\n",
       "      <td>none</td>\n",
       "      <td>0</td>\n",
       "    </tr>\n",
       "    <tr>\n",
       "      <th>2</th>\n",
       "      <td>random-ralo-ralo</td>\n",
       "      <td>10</td>\n",
       "      <td>20</td>\n",
       "      <td>20</td>\n",
       "      <td>GE</td>\n",
       "      <td>0.0</td>\n",
       "      <td>6.0</td>\n",
       "      <td>5.0</td>\n",
       "      <td>0</td>\n",
       "      <td>none</td>\n",
       "      <td>0</td>\n",
       "    </tr>\n",
       "    <tr>\n",
       "      <th>3</th>\n",
       "      <td>random-ralo-ralo</td>\n",
       "      <td>10</td>\n",
       "      <td>20</td>\n",
       "      <td>20</td>\n",
       "      <td>GB</td>\n",
       "      <td>0.0</td>\n",
       "      <td>7.0</td>\n",
       "      <td>4.0</td>\n",
       "      <td>0</td>\n",
       "      <td>none</td>\n",
       "      <td>0</td>\n",
       "    </tr>\n",
       "    <tr>\n",
       "      <th>4</th>\n",
       "      <td>random-ralo-ralo</td>\n",
       "      <td>10</td>\n",
       "      <td>20</td>\n",
       "      <td>20</td>\n",
       "      <td>GS</td>\n",
       "      <td>0.0</td>\n",
       "      <td>6.0</td>\n",
       "      <td>4.0</td>\n",
       "      <td>0</td>\n",
       "      <td>none</td>\n",
       "      <td>0</td>\n",
       "    </tr>\n",
       "    <tr>\n",
       "      <th>...</th>\n",
       "      <td>...</td>\n",
       "      <td>...</td>\n",
       "      <td>...</td>\n",
       "      <td>...</td>\n",
       "      <td>...</td>\n",
       "      <td>...</td>\n",
       "      <td>...</td>\n",
       "      <td>...</td>\n",
       "      <td>...</td>\n",
       "      <td>...</td>\n",
       "      <td>...</td>\n",
       "    </tr>\n",
       "    <tr>\n",
       "      <th>1847</th>\n",
       "      <td>optimo</td>\n",
       "      <td>26</td>\n",
       "      <td>98</td>\n",
       "      <td>103</td>\n",
       "      <td>OPTIMO</td>\n",
       "      <td>0.0</td>\n",
       "      <td>38.0</td>\n",
       "      <td>5.0</td>\n",
       "      <td>0</td>\n",
       "      <td>none</td>\n",
       "      <td>0</td>\n",
       "    </tr>\n",
       "    <tr>\n",
       "      <th>1848</th>\n",
       "      <td>optimo</td>\n",
       "      <td>28</td>\n",
       "      <td>106</td>\n",
       "      <td>117</td>\n",
       "      <td>OPTIMO</td>\n",
       "      <td>0.0</td>\n",
       "      <td>48.0</td>\n",
       "      <td>5.0</td>\n",
       "      <td>0</td>\n",
       "      <td>none</td>\n",
       "      <td>0</td>\n",
       "    </tr>\n",
       "    <tr>\n",
       "      <th>1849</th>\n",
       "      <td>optimo</td>\n",
       "      <td>30</td>\n",
       "      <td>137</td>\n",
       "      <td>128</td>\n",
       "      <td>OPTIMO</td>\n",
       "      <td>0.0</td>\n",
       "      <td>47.0</td>\n",
       "      <td>6.0</td>\n",
       "      <td>0</td>\n",
       "      <td>none</td>\n",
       "      <td>0</td>\n",
       "    </tr>\n",
       "    <tr>\n",
       "      <th>1850</th>\n",
       "      <td>optimo</td>\n",
       "      <td>6</td>\n",
       "      <td>7</td>\n",
       "      <td>2</td>\n",
       "      <td>OPTIMO</td>\n",
       "      <td>0.0</td>\n",
       "      <td>1.0</td>\n",
       "      <td>4.0</td>\n",
       "      <td>0</td>\n",
       "      <td>none</td>\n",
       "      <td>0</td>\n",
       "    </tr>\n",
       "    <tr>\n",
       "      <th>1851</th>\n",
       "      <td>optimo</td>\n",
       "      <td>8</td>\n",
       "      <td>8</td>\n",
       "      <td>8</td>\n",
       "      <td>OPTIMO</td>\n",
       "      <td>0.0</td>\n",
       "      <td>6.0</td>\n",
       "      <td>2.0</td>\n",
       "      <td>0</td>\n",
       "      <td>none</td>\n",
       "      <td>0</td>\n",
       "    </tr>\n",
       "  </tbody>\n",
       "</table>\n",
       "<p>1852 rows × 11 columns</p>\n",
       "</div>"
      ],
      "text/plain": [
       "               dataset   n   mG   mH  metodo  tiempo  impacto  cant_colores  \\\n",
       "0     random-ralo-ralo  10   20   20      GB     0.0      6.0           5.0   \n",
       "1     random-ralo-ralo  10   20   20      GS     0.0      4.0           4.0   \n",
       "2     random-ralo-ralo  10   20   20      GE     0.0      6.0           5.0   \n",
       "3     random-ralo-ralo  10   20   20      GB     0.0      7.0           4.0   \n",
       "4     random-ralo-ralo  10   20   20      GS     0.0      6.0           4.0   \n",
       "...                ...  ..  ...  ...     ...     ...      ...           ...   \n",
       "1847            optimo  26   98  103  OPTIMO     0.0     38.0           5.0   \n",
       "1848            optimo  28  106  117  OPTIMO     0.0     48.0           5.0   \n",
       "1849            optimo  30  137  128  OPTIMO     0.0     47.0           6.0   \n",
       "1850            optimo   6    7    2  OPTIMO     0.0      1.0           4.0   \n",
       "1851            optimo   8    8    8  OPTIMO     0.0      6.0           2.0   \n",
       "\n",
       "      longitud_tabu tipo_memoria  porcentaje_vecindad  \n",
       "0                 0         none                    0  \n",
       "1                 0         none                    0  \n",
       "2                 0         none                    0  \n",
       "3                 0         none                    0  \n",
       "4                 0         none                    0  \n",
       "...             ...          ...                  ...  \n",
       "1847              0         none                    0  \n",
       "1848              0         none                    0  \n",
       "1849              0         none                    0  \n",
       "1850              0         none                    0  \n",
       "1851              0         none                    0  \n",
       "\n",
       "[1852 rows x 11 columns]"
      ]
     },
     "execution_count": 102,
     "metadata": {},
     "output_type": "execute_result"
    }
   ],
   "source": [
    "df_random_denso_denso = df_resultados[(df_resultados[\"metodo\"]==\"GS\") |\n",
    "                                      (df_resultados[\"metodo\"]==\"GE\") |\n",
    "                                      (df_resultados[\"metodo\"]==\"GB\") |\n",
    "                                      (df_resultados[\"metodo\"]==\"OPTIMO\")\n",
    "                                     ].copy();\n",
    "\n",
    "df_random_denso_denso"
   ]
  },
  {
   "cell_type": "code",
   "execution_count": 103,
   "metadata": {},
   "outputs": [],
   "source": [
    "df_random_denso_denso = df_resultados.loc[df_resultados['dataset'] == 'random-denso-denso']\n",
    "df_random_denso_denso_ge = df_random_denso_denso.loc[df_random_denso_denso['metodo'] == 'GE']\n",
    "df_random_denso_denso_gb = df_random_denso_denso.loc[df_random_denso_denso['metodo'] == 'GB']\n",
    "df_random_denso_denso_gs = df_random_denso_denso.loc[df_random_denso_denso['metodo'] == 'GS']\n",
    "\n",
    "\n",
    "df_random_ralo_ralo = df_resultados.loc[df_resultados['dataset'] == 'random-ralo-ralo']\n",
    "df_random_ralo_ralo_ge = df_random_ralo_ralo.loc[df_random_ralo_ralo['metodo'] == 'GE']\n",
    "df_random_ralo_ralo_gb = df_random_ralo_ralo.loc[df_random_ralo_ralo['metodo'] == 'GB']\n",
    "df_random_ralo_ralo_gs = df_random_ralo_ralo.loc[df_random_ralo_ralo['metodo'] == 'GS']\n",
    "\n",
    "df_random_ralo_denso = df_resultados.loc[df_resultados['dataset'] == 'random-ralo-denso']\n",
    "df_random_ralo_denso_ge = df_random_ralo_denso.loc[df_random_ralo_denso['metodo'] == 'GE']\n",
    "df_random_ralo_denso_gb = df_random_ralo_denso.loc[df_random_ralo_denso['metodo'] == 'GB']\n",
    "df_random_ralo_denso_gs = df_random_ralo_denso.loc[df_random_ralo_denso['metodo'] == 'GS']\n",
    "\n",
    "df_random_denso_ralo = df_resultados.loc[df_resultados['dataset'] == 'random-denso-ralo']\n",
    "df_random_denso_ralo_ge = df_random_denso_ralo.loc[df_random_denso_ralo['metodo'] == 'GE']\n",
    "df_random_denso_ralo_gb = df_random_denso_ralo.loc[df_random_denso_ralo['metodo'] == 'GB']\n",
    "df_random_denso_ralo_gs = df_random_denso_ralo.loc[df_random_denso_ralo['metodo'] == 'GS']\n"
   ]
  },
  {
   "cell_type": "code",
   "execution_count": 104,
   "metadata": {},
   "outputs": [
    {
     "data": {
      "text/plain": [
       "<AxesSubplot:xlabel='n', ylabel='impacto'>"
      ]
     },
     "execution_count": 104,
     "metadata": {},
     "output_type": "execute_result"
    },
    {
     "data": {
      "image/png": "[encoded data removed]",
      "text/plain": [
       "<Figure size 432x288 with 1 Axes>"
      ]
     },
     "metadata": {
      "needs_background": "light"
     },
     "output_type": "display_data"
    }
   ],
   "source": [
    "#Necesito conseguir listas para x, y para y.\n",
    "\n",
    "sns.boxplot(x='n', y='impacto', data=df_random_denso_denso_ge, color = 'black') #negro: expansivo \n",
    "sns.boxplot(x='n', y='impacto', data=df_random_denso_denso_gb, color = 'blue') #azul : bruteforcer\n",
    "sns.boxplot(x='n', y='impacto', data=df_random_denso_denso_gs, color = 'red') #rojo : secuencial\n"
   ]
  },
  {
   "cell_type": "code",
   "execution_count": 105,
   "metadata": {},
   "outputs": [
    {
     "data": {
      "text/plain": [
       "<AxesSubplot:xlabel='n', ylabel='impacto'>"
      ]
     },
     "execution_count": 105,
     "metadata": {},
     "output_type": "execute_result"
    },
    {
     "data": {
      "image/png": "[encoded data removed]",
      "text/plain": [
       "<Figure size 432x288 with 1 Axes>"
      ]
     },
     "metadata": {
      "needs_background": "light"
     },
     "output_type": "display_data"
    }
   ],
   "source": [
    "sns.boxplot(x='n', y='impacto', data=df_random_ralo_ralo_ge, color = 'black') #negro: expansivo \n",
    "sns.boxplot(x='n', y='impacto', data=df_random_ralo_ralo_gb, color = 'blue') #azul : bruteforcer\n",
    "sns.boxplot(x='n', y='impacto', data=df_random_ralo_ralo_gs, color = 'red') #rojo : secuencial"
   ]
  },
  {
   "cell_type": "code",
   "execution_count": 106,
   "metadata": {},
   "outputs": [
    {
     "data": {
      "text/plain": [
       "<AxesSubplot:xlabel='n', ylabel='impacto'>"
      ]
     },
     "execution_count": 106,
     "metadata": {},
     "output_type": "execute_result"
    },
    {
     "data": {
      "image/png": "[encoded data removed]",
      "text/plain": [
       "<Figure size 432x288 with 1 Axes>"
      ]
     },
     "metadata": {
      "needs_background": "light"
     },
     "output_type": "display_data"
    }
   ],
   "source": [
    "sns.boxplot(x='n', y='impacto', data=df_random_ralo_denso_ge, color = 'black') #negro: expansivo \n",
    "sns.boxplot(x='n', y='impacto', data=df_random_ralo_denso_gb, color = 'blue') #azul : bruteforcer\n",
    "sns.boxplot(x='n', y='impacto', data=df_random_ralo_denso_gs, color = 'red') #rojo : secuencial"
   ]
  },
  {
   "cell_type": "code",
   "execution_count": 107,
   "metadata": {},
   "outputs": [
    {
     "data": {
      "text/plain": [
       "<AxesSubplot:xlabel='n', ylabel='impacto'>"
      ]
     },
     "execution_count": 107,
     "metadata": {},
     "output_type": "execute_result"
    },
    {
     "data": {
      "image/png": "[encoded data removed]",
      "text/plain": [
       "<Figure size 432x288 with 1 Axes>"
      ]
     },
     "metadata": {
      "needs_background": "light"
     },
     "output_type": "display_data"
    }
   ],
   "source": [
    "sns.boxplot(x='n', y='impacto', data=df_random_denso_ralo_ge, color = 'black') #negro: expansivo \n",
    "sns.boxplot(x='n', y='impacto', data=df_random_denso_ralo_gb, color = 'blue') #azul : bruteforcer\n",
    "sns.boxplot(x='n', y='impacto', data=df_random_denso_ralo_gs, color = 'red') #rojo : secuencial"
   ]
  },
  {
   "cell_type": "code",
   "execution_count": 111,
   "metadata": {},
   "outputs": [
    {
     "data": {
      "text/plain": [
       "<AxesSubplot:xlabel='n', ylabel='tiempo'>"
      ]
     },
     "execution_count": 111,
     "metadata": {},
     "output_type": "execute_result"
    },
    {
     "data": {
      "image/png": "[encoded data removed]",
      "text/plain": [
       "<Figure size 432x288 with 1 Axes>"
      ]
     },
     "metadata": {
      "needs_background": "light"
     },
     "output_type": "display_data"
    }
   ],
   "source": [
    "#Necesito conseguir listas para x, y para y.\n",
    "\n",
    "sns.boxplot(x='n', y='tiempo', data=df_random_denso_denso_ge, color = 'black') #negro: expansivo \n",
    "#sns.boxplot(x='n', y='tiempo', data=df_random_denso_denso_gb, color = 'blue') #azul: bruteforcer\n",
    "sns.boxplot(x='n', y='tiempo', data=df_random_denso_denso_gs, color = 'red') #rojo: secuencial"
   ]
  },
  {
   "cell_type": "code",
   "execution_count": 112,
   "metadata": {},
   "outputs": [
    {
     "data": {
      "image/png": "[encoded data removed]",
      "text/plain": [
       "<Figure size 360x360 with 1 Axes>"
      ]
     },
     "metadata": {
      "needs_background": "light"
     },
     "output_type": "display_data"
    }
   ],
   "source": [
    "sns.lmplot(x=\"n\", y=\"tiempo\", color = 'blue', data=df_random_denso_denso_gb, x_estimator=np.mean);"
   ]
  },
  {
   "cell_type": "code",
   "execution_count": null,
   "metadata": {},
   "outputs": [],
   "source": []
  }
 ],
 "metadata": {
  "kernelspec": {
   "display_name": "Python 3",
   "language": "python",
   "name": "python3"
  },
  "language_info": {
   "codemirror_mode": {
    "name": "ipython",
    "version": 3
   },
   "file_extension": ".py",
   "mimetype": "text/x-python",
   "name": "python",
   "nbconvert_exporter": "python",
   "pygments_lexer": "ipython3",
   "version": "3.8.5"
  }
 },
 "nbformat": 4,
 "nbformat_minor": 4
}
