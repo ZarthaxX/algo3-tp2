{
 "cells": [
  {
   "cell_type": "markdown",
   "metadata": {},
   "source": [
    "# Generador de instancias\n",
    "En este notebook está el código para generar los sets de instancias que se usan para experimentar.\n",
    "- Estas instancias van a ser guardadas en la carpeta __instancias__.\n",
    "- Cada set estará en su propia carpeta y tendrá un archivo _indice.csv_ que contendrá información sobre las instancias."
   ]
  },
  {
   "cell_type": "code",
   "execution_count": 1,
   "metadata": {},
   "outputs": [],
   "source": [
    "import random, math\n",
    "import pandas as pd\n",
    "import numpy as np\n",
    "import os"
   ]
  },
  {
   "cell_type": "code",
   "execution_count": 2,
   "metadata": {},
   "outputs": [],
   "source": [
    "def save_instance(dataset, instance_name, n, mG, mH, edges, i):\n",
    "    instance_name = f\"{instance_name}-{n}-{mG}-{mH}-{i}\";\n",
    "    directory = f\"..\\\\instances\\\\{dataset}\"\n",
    "    if not os.path.exists(directory):\n",
    "        os.makedirs(directory)\n",
    "    with open(f\"{directory}\\\\{instance_name}.in\", \"w+\") as f:\n",
    "        print(n, mG, mH, file=f)\n",
    "        for edge in edges: \n",
    "            print(f\"{edge[0]} {edge[1]}\\n\", file=f, end=\"\")"
   ]
  },
  {
   "cell_type": "code",
   "execution_count": 3,
   "metadata": {},
   "outputs": [],
   "source": [
    "def save_row(filas_indice, dataset, instance_name, n, mG, mH, i):\n",
    "    filas_indice.append([dataset, instance_name+f\"-{n}-{mG}-{mH}-{i}\", n, mG, mH, i, \"..\\\\instances\\\\\"+ dataset + \"\\\\\"+ instance_name+f\"-{n}-{mG}-{mH}-{i}.in\"])\n",
    "\n",
    "def save_to_csv(filas_indice,dataset):\n",
    "    df = pd.DataFrame(filas_indice, columns=[\"dataset\", \"instancia\", \"n\", \"mG\", \"mH\",\"i\", \"archivo\"])\n",
    "    df.to_csv(\"..\\\\instances\\\\\"+dataset+\"\\\\indice.csv\", index=False, header=True)"
   ]
  },
  {
   "cell_type": "code",
   "execution_count": 4,
   "metadata": {},
   "outputs": [],
   "source": [
    "random.seed(42)"
   ]
  },
  {
   "cell_type": "markdown",
   "metadata": {},
   "source": [
    "## Optimo"
   ]
  },
  {
   "cell_type": "code",
   "execution_count": 5,
   "metadata": {},
   "outputs": [],
   "source": [
    "from os import listdir\n",
    "from os.path import isfile, join\n",
    "\n",
    "dataset = \"optimo\"\n",
    "instance_name = \"optimo\"\n",
    "filas_indice = []\n",
    "\n",
    "path = \"../../instancias\"; \n",
    "onlyfiles = [join(path,f) for f in listdir(path) if isfile(join(path, f)) and f.find(\".in\") != -1]\n",
    "\n",
    "for file in onlyfiles:\n",
    "    with open(file) as f:\n",
    "        n, mG, mH = [int(x) for x in next(f).split()] # read first line\n",
    "        edges = []\n",
    "        for line in f: # read rest of lines\n",
    "            edges.append([int(x) for x in line.split()])\n",
    "            \n",
    "        save_instance(dataset,instance_name, n, mG, mH, edges, 1)\n",
    "        save_row(filas_indice, dataset, instance_name, n, mG, mH, 1)\n",
    "\n",
    "save_to_csv(filas_indice,dataset)"
   ]
  },
  {
   "cell_type": "markdown",
   "metadata": {},
   "source": [
    "## Generar instancias Random Densas."
   ]
  },
  {
   "cell_type": "code",
   "execution_count": 7,
   "metadata": {},
   "outputs": [],
   "source": [
    "from os import listdir\n",
    "from os.path import isfile, join\n",
    "\n",
    "\n",
    "dataset_denso = \"random-densos-denso\"\n",
    "instance_name_denso = \"random-densos-denso\"\n",
    "\n",
    "dataset_ralo = \"random-ralo-ralo\"\n",
    "instance_name_ralo = \"random-ralo-ralo\"\n",
    "\n",
    "dataset_ralo_denso = \"random-ralo-denso\"\n",
    "instance_name_ralo_denso = \"random-ralo-denso\"\n",
    "\n",
    "dataset_denso_ralo = \"random-danso-relo\"\n",
    "instance_name_denso_ralo = \"random-denso-ralo\"\n",
    "\n",
    "\n",
    "filas_indice_denso = []\n",
    "filas_indice_ralo = []\n",
    "filas_indice_ralo_denso = []\n",
    "filas_indice_denso_ralo = []\n",
    "\n",
    "\n",
    "cantidadReps = 10\n",
    "minNumeroNodos = 10\n",
    "maxNumeroNodos = 50\n",
    "\n",
    "\n",
    "for n in range(minNumeroNodos,maxNumeroNodos):\n",
    "    #Creo la lista de todas las posibles aristas.\n",
    "    listaAristas = [(nodo1,nodo2) for nodo1 in range(1 , n+1) for nodo2 in range(1, n+1) if nodo1<nodo2]\n",
    "\n",
    "    \n",
    "    #Fijo cantidad de aristas a seleccionar.\n",
    "    m_denso = int(n*(n-1)/4)\n",
    "    m_ralo = int(2*n)\n",
    "    \n",
    "    for cantReps in range(cantidadReps):\n",
    "        \n",
    "        #Armo G y H densos para n nodos.\n",
    "        random.shuffle(listaAristas)\n",
    "        aristasDensasG = listaAristas[:m_denso]\n",
    "        random.shuffle(listaAristas)\n",
    "        aristasDensasH = listaAristas[:m_denso]\n",
    "        \n",
    "        save_instance(dataset_denso,instance_name_denso, n, len(aristasDensasG), len(aristasDensasH), aristasDensasG + aristasDensasH, 1)\n",
    "        save_row(filas_indice_denso, dataset_denso, instance_name_denso, n, len(aristasDensasG), len(aristasDensasH), 1)\n",
    "        save_to_csv(filas_indice_denso,dataset_denso)\n",
    "        \n",
    "        #Armo G y H ralos para n nodos.\n",
    "        random.shuffle(listaAristas)\n",
    "        aristasRalasG = listaAristas[:m_ralo]\n",
    "        random.shuffle(listaAristas)\n",
    "        aristasRalasH = listaAristas[:m_ralo]\n",
    "        \n",
    "        save_instance(dataset_ralo,instance_name_ralo, n, len(aristasRalasG), len(aristasRalasH), aristasRalasG + aristasRalasH, 1)\n",
    "        save_row(filas_indice_ralo, dataset_ralo, instance_name_ralo, n, len(aristasRalasG), len(aristasRalasH), 1)\n",
    "        save_to_csv(filas_indice_ralo,dataset_ralo)\n",
    "        \n",
    "        \n",
    "        #Armo G denso y H ralo para n nodos.\n",
    "        random.shuffle(listaAristas)\n",
    "        aristasDensasG = listaAristas[:m_denso]\n",
    "        random.shuffle(listaAristas)\n",
    "        aristasRalasH = listaAristas[:m_ralo]\n",
    "        \n",
    "        save_instance(dataset_denso_ralo,instance_name_denso_ralo, n, len(aristasDensasG), len(aristasRalasH), aristasDensasG + aristasRalasH, 1)\n",
    "        save_row(filas_indice_denso_ralo, dataset_denso_ralo, instance_name_denso_ralo, n, len(aristasDensasG), len(aristasRalasH), 1)\n",
    "        save_to_csv(filas_indice_denso,dataset_denso)\n",
    "        \n",
    "        #Armo G ralo y H denso para n nodos.\n",
    "        random.shuffle(listaAristas)\n",
    "        aristasRalasG = listaAristas[:m_ralo]\n",
    "        random.shuffle(listaAristas)\n",
    "        aristasDensasH = listaAristas[:m_denso]\n",
    "        \n",
    "        save_instance(dataset_ralo_denso,instance_name_ralo_denso, n, len(aristasRalasG), len(aristasDensasH), aristasRalasG + aristasDensasH, 1)\n",
    "        save_row(filas_indice_ralo_denso, dataset_ralo_denso, instance_name_ralo_denso, n, len(aristasRalasG), len(aristasDensasH), 1)\n",
    "        save_to_csv(filas_indice_ralo_denso,dataset_denso)\n",
    "    "
   ]
  }
 ],
 "metadata": {
  "kernelspec": {
   "display_name": "Python 3",
   "language": "python",
   "name": "python3"
  },
  "language_info": {
   "codemirror_mode": {
    "name": "ipython",
    "version": 3
   },
   "file_extension": ".py",
   "mimetype": "text/x-python",
   "name": "python",
   "nbconvert_exporter": "python",
   "pygments_lexer": "ipython3",
   "version": "3.8.5"
  }
 },
 "nbformat": 4,
 "nbformat_minor": 4
}
