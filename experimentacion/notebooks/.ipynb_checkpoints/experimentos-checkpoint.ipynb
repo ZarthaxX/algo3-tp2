{
 "cells": [
  {
   "cell_type": "markdown",
   "metadata": {},
   "source": [
    "# Correr experimentos\n",
    "En este archivo está el código para correr los experimentos y escribir los resultados en archivos CSV.\n",
    "> Los archivos se guardan en la carpeta _resultados_."
   ]
  },
  {
   "cell_type": "code",
   "execution_count": 26,
   "metadata": {},
   "outputs": [],
   "source": [
    "import math, subprocess\n",
    "import pandas as pd\n",
    "import numpy as np\n",
    "from IPython.display import display, clear_output"
   ]
  },
  {
   "cell_type": "code",
   "execution_count": 27,
   "metadata": {},
   "outputs": [],
   "source": [
    "def leer_instancia(path_instancia):\n",
    "    with open(path_instancia, \"r\") as f:\n",
    "        return f.read();\n",
    "\n",
    "# Leemos instancias\n",
    "df_optimo = pd.read_csv(\"..\\\\instances\\\\optimo\\\\indice.csv\");\n",
    "df_random_denso_denso = pd.read_csv(\"..\\\\instances\\\\random-denso-denso\\\\indice.csv\");\n",
    "df_random_denso_ralo = pd.read_csv(\"..\\\\instances\\\\random-denso-ralo\\\\indice.csv\");\n",
    "df_random_ralo_denso = pd.read_csv(\"..\\\\instances\\\\random-ralo-denso\\\\indice.csv\");\n",
    "df_random_ralo_ralo = pd.read_csv(\"..\\\\instances\\\\random-ralo-ralo\\\\indice.csv\");\n"
   ]
  },
  {
   "cell_type": "raw",
   "metadata": {},
   "source": [
    "def correr_experimento(metodo, archivo_instancia):\n",
    "    # Leer archivo de la instancia.\n",
    "    instancia = leer_instancia(archivo_instancia)\n",
    "\n",
    "    # Crear proceso para ejecutar el codigo.\n",
    "    process = subprocess.Popen([\"../../main\"] + metodo.split(), stderr=subprocess.PIPE, stdout=subprocess.PIPE, stdin=subprocess.PIPE, universal_newlines = True)\n",
    "\n",
    "    # Poner la instancia en la entrada estandar.\n",
    "    process.stdin.write(instancia)\n",
    "    process.stdin.flush()\n",
    "\n",
    "    # Correr experimento.\n",
    "    exit_code = process.wait()\n",
    "\n",
    "    # Verificar que el proceso no fallo.\n",
    "    if exit_code is not 0: raise(F\"Hubo un error en la experimentacion para el algoritmo: {algoritmo} con la instancia {archivo_instancia}.\")\n",
    "    # Leer salida de STDERR con los tiempos de ejecucion de cada metodo.\n",
    "    outputs = process.stderr.readline().split(); \n",
    "    tiempo_de_ejecucion = float(outputs[0]);\n",
    "    impacto = int(outputs[1]);\n",
    "    cant_colores = int(outputs[2]);\n",
    "    longitud_tabu = int(outputs[3]);\n",
    "    tipo_memoria = outputs[4];\n",
    "    porcentaje_vecindad = int(outputs[5]);\n",
    "    \n",
    "    process.stdin.close();\n",
    "    process.stdout.close();\n",
    "    process.stderr.close();\n",
    "    \n",
    "    return tiempo_de_ejecucion, impacto, cant_colores, longitud_tabu, tipo_memoria, porcentaje_vecindad;"
   ]
  },
  {
   "cell_type": "code",
   "execution_count": null,
   "metadata": {},
   "outputs": [],
   "source": [
    "def correr_experimento(metodo, archivo_instancia, longitud_tabu, tipo_memoria, porcentaje_vecindad):\n",
    "    # Leer archivo de la instancia.\n",
    "    instancia = leer_instancia(archivo_instancia)\n",
    "\n",
    "    # Crear proceso para ejecutar el codigo.\n",
    "    process = subprocess.Popen([\"../../main\", metodo, longitud_tabu, tipo_memoria, porcentaje_vecindad], stderr=subprocess.PIPE, stdout=subprocess.PIPE, stdin=subprocess.PIPE, universal_newlines = True)\n",
    "\n",
    "    # Poner la instancia en la entrada estandar.\n",
    "    process.stdin.write(instancia)\n",
    "    process.stdin.flush()\n",
    "\n",
    "    # Correr experimento.\n",
    "    exit_code = process.wait()\n",
    "\n",
    "    # Verificar que el proceso no fallo.\n",
    "    if exit_code is not 0: raise(F\"Hubo un error en la experimentacion para el algoritmo: {algoritmo} con la instancia {archivo_instancia}.\")\n",
    "    # Leer salida de STDERR con los tiempos de ejecucion de cada metodo.\n",
    "    outputs = process.stderr.readline().split(); \n",
    "    tiempo_de_ejecucion = float(outputs[0]);\n",
    "    impacto = int(outputs[1]);\n",
    "    cant_colores = int(outputs[2]);\n",
    "    longitud_tabu = int(outputs[3]);\n",
    "    tipo_memoria = outputs[4];\n",
    "    porcentaje_vecindad = int(outputs[5]);\n",
    "\n",
    "    process.stdin.close();\n",
    "    process.stdout.close();\n",
    "    process.stderr.close();\n",
    "\n",
    "    return tiempo_de_ejecucion, impacto, cant_colores, longitud_tabu, tipo_memoria, porcentaje_vecindad;"
   ]
  },
  {
   "cell_type": "markdown",
   "metadata": {},
   "source": [
    "## Corremos los experimentos\n",
    "Vamos a guardar una tabla con las ejecuciones y sus respectivos tiempos."
   ]
  },
  {
   "cell_type": "code",
   "execution_count": null,
   "metadata": {},
   "outputs": [],
   "source": []
  },
  {
   "cell_type": "code",
   "execution_count": 29,
   "metadata": {},
   "outputs": [],
   "source": [
    "experimentos = [];"
   ]
  },
  {
   "cell_type": "markdown",
   "metadata": {},
   "source": [
    "# Experimento 1"
   ]
  },
  {
   "cell_type": "code",
   "execution_count": 30,
   "metadata": {},
   "outputs": [],
   "source": [
    "# df_random_ralo_ralo.shape[0]\n",
    "for n in range(0, df_random_ralo_ralo.shape[0]):\n",
    "    fila = df_random_ralo_ralo.iloc[n];\n",
    "    experimentos.append([fila[\"dataset\"], fila[\"n\"], fila[\"mG\"], fila[\"mH\"], \"GB\", fila[\"archivo\"]]);\n",
    "    experimentos.append([fila[\"dataset\"], fila[\"n\"], fila[\"mG\"], fila[\"mH\"], \"GS\", fila[\"archivo\"]]);\n",
    "    experimentos.append([fila[\"dataset\"], fila[\"n\"], fila[\"mG\"], fila[\"mH\"], \"GE\", fila[\"archivo\"]]);\n",
    "\n",
    "for n in range(0, df_random_ralo_denso.shape[0]):\n",
    "    fila = df_random_ralo_denso.iloc[n];\n",
    "    experimentos.append([fila[\"dataset\"], fila[\"n\"], fila[\"mG\"], fila[\"mH\"], \"GB\", fila[\"archivo\"]]);\n",
    "    experimentos.append([fila[\"dataset\"], fila[\"n\"], fila[\"mG\"], fila[\"mH\"], \"GS\", fila[\"archivo\"]]);\n",
    "    experimentos.append([fila[\"dataset\"], fila[\"n\"], fila[\"mG\"], fila[\"mH\"], \"GE\", fila[\"archivo\"]]);\n",
    "\n",
    "for n in range(0, df_random_denso_ralo.shape[0]):\n",
    "    fila = df_random_denso_ralo.iloc[n];\n",
    "    experimentos.append([fila[\"dataset\"], fila[\"n\"], fila[\"mG\"], fila[\"mH\"], \"GB\", fila[\"archivo\"]]);\n",
    "    experimentos.append([fila[\"dataset\"], fila[\"n\"], fila[\"mG\"], fila[\"mH\"], \"GS\", fila[\"archivo\"]]);\n",
    "    experimentos.append([fila[\"dataset\"], fila[\"n\"], fila[\"mG\"], fila[\"mH\"], \"GE\", fila[\"archivo\"]]);\n",
    "\n",
    "for n in range(0, df_random_denso_denso.shape[0]):\n",
    "    fila = df_random_denso_denso.iloc[n];\n",
    "    experimentos.append([fila[\"dataset\"], fila[\"n\"], fila[\"mG\"], fila[\"mH\"], \"GB\", fila[\"archivo\"]]);\n",
    "    experimentos.append([fila[\"dataset\"], fila[\"n\"], fila[\"mG\"], fila[\"mH\"], \"GS\", fila[\"archivo\"]]);\n",
    "    experimentos.append([fila[\"dataset\"], fila[\"n\"], fila[\"mG\"], fila[\"mH\"], \"GE\", fila[\"archivo\"]]);\n",
    "\n"
   ]
  },
  {
   "cell_type": "code",
   "execution_count": null,
   "metadata": {},
   "outputs": [],
   "source": []
  },
  {
   "cell_type": "markdown",
   "metadata": {},
   "source": [
    "# Experimento 2"
   ]
  },
  {
   "cell_type": "code",
   "execution_count": 31,
   "metadata": {},
   "outputs": [],
   "source": [
    "for n in range(0, df_optimo.shape[0]):\n",
    "    fila = df_optimo.iloc[n];\n",
    "    experimentos.append([fila[\"dataset\"], fila[\"n\"], fila[\"mG\"], fila[\"mH\"], \"GB\", fila[\"archivo\"]]);\n",
    "\n",
    "for n in range(0, df_optimo.shape[0]):\n",
    "    fila = df_optimo.iloc[n];\n",
    "    experimentos.append([fila[\"dataset\"], fila[\"n\"], fila[\"mG\"], fila[\"mH\"], \"GS\", fila[\"archivo\"]]);\n",
    "    \n",
    "for n in range(0, df_optimo.shape[0]):\n",
    "    fila = df_optimo.iloc[n];\n",
    "    experimentos.append([fila[\"dataset\"], fila[\"n\"], fila[\"mG\"], fila[\"mH\"], \"GE\", fila[\"archivo\"]]);"
   ]
  },
  {
   "cell_type": "code",
   "execution_count": 32,
   "metadata": {
    "tags": []
   },
   "outputs": [
    {
     "data": {
      "text/plain": [
       "'Experimento: 1839/1839'"
      ]
     },
     "metadata": {},
     "output_type": "display_data"
    }
   ],
   "source": [
    "columnas = [\n",
    "    \"dataset\",\n",
    "    \"n\",\n",
    "    \"mG\",\n",
    "    \"mH\",\n",
    "    \"metodo\",\n",
    "    \"tiempo\",\n",
    "    \"impacto\",\n",
    "    \"cant_colores\",\n",
    "    \"longitud_tabu\",\n",
    "    \"tipo_memoria\",\n",
    "    \"porcentaje_vecindad\"\n",
    "];\n",
    "\n",
    "filas = [];\n",
    "numero = 1\n",
    "T = 5 # Numero de veces que se ejecuta cada experimento (para mayor fidelidad del tiempo).\n",
    "for experimento in experimentos:\n",
    "    # Voy mostrando que experimento se esta ejecutando.\n",
    "    clear_output(wait=True)\n",
    "    display('Experimento: ' + str(numero) + \"/\" + str(len(experimentos)))\n",
    "    numero += 1\n",
    "    \n",
    "    # Ejecutamos el experimento T veces y obtenemos la mediana.\n",
    "    tiempos = []\n",
    "    impactos = []\n",
    "    cant_colores = []\n",
    "    longitud_tabu = 0\n",
    "    tipo_memoria = 0\n",
    "    longitud_tabu = 0\n",
    "    tipo_memoria = \"none\"\n",
    "    porcentaje_vecindad = 0\n",
    "    \n",
    "    if len(experimento) > 6:\n",
    "        longitud_tabu = experimento[6]\n",
    "        tipo_memoria = experimento[7]\n",
    "        porcentaje_vecindad = experimento[8]\n",
    "    \n",
    "    for i in range(0, T):\n",
    "        tiempo, impacto, colores, longitud_tabu, tipo_memoria, porcentaje_vecindad = correr_experimento(experimento[4],\n",
    "                                                                                                        experimento[5],\n",
    "                                                                                                        longitud_tabu,\n",
    "                                                                                                        tipo_memoria,\n",
    "                                                                                                        porcentaje_vecindad)\n",
    "        \n",
    "        tiempos.append(tiempo);\n",
    "        impactos.append(impacto);\n",
    "        cant_colores.append(colores);\n",
    "        \n",
    "    tiempo_promedio = np.median(tiempos);\n",
    "    impacto_promedio = np.median(impactos);\n",
    "    cant_colores_promedio = np.median(cant_colores);\n",
    "    \n",
    "    filas.append([\n",
    "        experimento[0],\n",
    "        experimento[1],\n",
    "        experimento[2],\n",
    "        experimento[3],\n",
    "        experimento[4],\n",
    "        tiempo_promedio,\n",
    "        impacto_promedio,\n",
    "        cant_colores_promedio,\n",
    "        longitud_tabu,\n",
    "        tipo_memoria,\n",
    "        porcentaje_vecindad]\n",
    "    );\n"
   ]
  },
  {
   "cell_type": "code",
   "execution_count": 33,
   "metadata": {},
   "outputs": [],
   "source": [
    "\n",
    "from os import listdir\n",
    "from os.path import isfile, join\n",
    "    \n",
    "path = \"../../instancias\"; \n",
    "onlyfiles = [join(path,f) for f in listdir(path) if isfile(join(path, f)) and f.find(\".out\") != -1]\n",
    "\n",
    "for i in range(0, df_optimo.shape[0]):\n",
    "    fila = df_optimo.iloc[i];\n",
    "    file = onlyfiles[i]\n",
    "    with open(file) as f:\n",
    "        coloring = int(next(f)) # read first line\n",
    "        colors = [int(x) for x in next(f).split()]\n",
    "        uniqueColors = len(set(colors))\n",
    "        filas.append([fila[\"dataset\"], fila[\"n\"], fila[\"mG\"], fila[\"mH\"], \"OPTIMO\", 0, coloring, uniqueColors, 0, \"none\", 0]);\n"
   ]
  },
  {
   "cell_type": "code",
   "execution_count": 34,
   "metadata": {},
   "outputs": [],
   "source": [
    "df_resultado = pd.DataFrame(filas, columns=columnas);\n",
    "df_resultado.to_csv(\"../results/resultado.csv\", index=False, header=True);"
   ]
  },
  {
   "cell_type": "code",
   "execution_count": null,
   "metadata": {},
   "outputs": [],
   "source": []
  }
 ],
 "metadata": {
  "kernelspec": {
   "display_name": "Python 3",
   "language": "python",
   "name": "python3"
  },
  "language_info": {
   "codemirror_mode": {
    "name": "ipython",
    "version": 3
   },
   "file_extension": ".py",
   "mimetype": "text/x-python",
   "name": "python",
   "nbconvert_exporter": "python",
   "pygments_lexer": "ipython3",
   "version": "3.8.5"
  }
 },
 "nbformat": 4,
 "nbformat_minor": 4
}
